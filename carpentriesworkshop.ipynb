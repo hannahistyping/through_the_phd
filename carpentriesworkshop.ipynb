{
 "cells": [
  {
   "cell_type": "code",
   "execution_count": 1,
   "id": "7687d1c4-63bb-4a3c-bb84-3b2595eafcb9",
   "metadata": {},
   "outputs": [],
   "source": [
    "variable='carpentries workshop'"
   ]
  },
  {
   "cell_type": "code",
   "execution_count": 2,
   "id": "8f598382-199d-4975-92c3-3563a06fbe37",
   "metadata": {},
   "outputs": [
    {
     "data": {
      "text/plain": [
       "'carpentries workshop'"
      ]
     },
     "execution_count": 2,
     "metadata": {},
     "output_type": "execute_result"
    }
   ],
   "source": [
    "variable"
   ]
  },
  {
   "cell_type": "code",
   "execution_count": null,
   "id": "9493cf7d-0e52-4ccb-80dc-58b8a600befc",
   "metadata": {},
   "outputs": [],
   "source": []
  },
  {
   "cell_type": "markdown",
   "id": "fe107ede-4f0a-4415-adf5-60f90d2995fb",
   "metadata": {},
   "source": []
  },
  {
   "cell_type": "markdown",
   "id": "9e95807d-c75c-4c31-ba86-e1302195d801",
   "metadata": {},
   "source": [
    "1. numbered\n",
    "2. fjieo;wa"
   ]
  },
  {
   "cell_type": "markdown",
   "id": "3c7b5bb1-ddc2-47e8-8ec3-26360afc27ca",
   "metadata": {},
   "source": [
    "- ???\n",
    "\n",
    "below shows how to make links in markdown? )have to examine more closely the code below, it's hiding)\n"
   ]
  },
  {
   "cell_type": "markdown",
   "id": "eea94c2a-f94e-4546-b886-6e8298102deb",
   "metadata": {},
   "source": [
    "[contact][carpentries email]\n",
    "\n",
    "[carpentries email]: carpentries@org"
   ]
  },
  {
   "cell_type": "markdown",
   "id": "800a8d01-b666-40ab-b5f3-6e839cf707b5",
   "metadata": {},
   "source": [
    "![][giraffe]\n",
    "\n",
    "[giraffe]:http://upload.wikimedia.org/wikipedia/commons/thumb/b/b7/South_African_Giraffe,_head.jpg/877px-South_African_Giraffe,_head.jpg \"Picture of a Giraffe\"\n",
    "\n"
   ]
  },
  {
   "cell_type": "markdown",
   "id": "7afbcfda-63c5-41f4-bdfd-64dd29a841be",
   "metadata": {},
   "source": [
    "vari=12"
   ]
  },
  {
   "cell_type": "code",
   "execution_count": 6,
   "id": "5856bd79-6408-4c03-a193-9f22ee8f065c",
   "metadata": {},
   "outputs": [
    {
     "data": {
      "text/plain": [
       "12"
      ]
     },
     "execution_count": 6,
     "metadata": {},
     "output_type": "execute_result"
    }
   ],
   "source": [
    "vari"
   ]
  },
  {
   "cell_type": "code",
   "execution_count": 9,
   "id": "ef9b1ea0-8548-46bc-9a8b-bb680caca6b9",
   "metadata": {},
   "outputs": [],
   "source": [
    "vari=3"
   ]
  },
  {
   "cell_type": "code",
   "execution_count": 10,
   "id": "c1e9cbc4-c4de-4ce9-b1b8-6b6c80f9ce6f",
   "metadata": {},
   "outputs": [
    {
     "data": {
      "text/plain": [
       "3"
      ]
     },
     "execution_count": 10,
     "metadata": {},
     "output_type": "execute_result"
    }
   ],
   "source": [
    "vari"
   ]
  },
  {
   "cell_type": "code",
   "execution_count": 11,
   "id": "648f0e29-b13c-4b3c-920e-b75a00c46fe0",
   "metadata": {},
   "outputs": [],
   "source": [
    "variable='carp'"
   ]
  },
  {
   "cell_type": "code",
   "execution_count": 12,
   "id": "e3c4359b-9173-4a58-b107-e7b73d853539",
   "metadata": {},
   "outputs": [
    {
     "data": {
      "text/plain": [
       "'carp'"
      ]
     },
     "execution_count": 12,
     "metadata": {},
     "output_type": "execute_result"
    }
   ],
   "source": [
    "variable"
   ]
  },
  {
   "cell_type": "code",
   "execution_count": 13,
   "id": "cb8068d6-b7c8-477c-a2b1-99a8824328af",
   "metadata": {},
   "outputs": [
    {
     "data": {
      "text/plain": [
       "'carpcarpcarp'"
      ]
     },
     "execution_count": 13,
     "metadata": {},
     "output_type": "execute_result"
    }
   ],
   "source": [
    "variable*3"
   ]
  },
  {
   "cell_type": "code",
   "execution_count": 14,
   "id": "8fc93179-f640-44e3-84f1-ecf89383dfa1",
   "metadata": {},
   "outputs": [
    {
     "name": "stdout",
     "output_type": "stream",
     "text": [
      "h\n"
     ]
    }
   ],
   "source": [
    "atom_name='helium'\n",
    "print(atom_name[0])"
   ]
  },
  {
   "cell_type": "code",
   "execution_count": 16,
   "id": "d5d85ba6-d12d-4f9d-9fe0-f90826096abd",
   "metadata": {},
   "outputs": [
    {
     "data": {
      "text/plain": [
       "6"
      ]
     },
     "execution_count": 16,
     "metadata": {},
     "output_type": "execute_result"
    }
   ],
   "source": [
    "len(atom_name)"
   ]
  },
  {
   "cell_type": "code",
   "execution_count": 17,
   "id": "15e56742-e996-49ae-b5aa-ba7b89af8e7e",
   "metadata": {},
   "outputs": [],
   "source": [
    "x=1.0\n",
    "y=3.0"
   ]
  },
  {
   "cell_type": "code",
   "execution_count": 18,
   "id": "8f8b1124-48e6-4335-8e6b-9a56e1dd9fa9",
   "metadata": {},
   "outputs": [
    {
     "data": {
      "text/plain": [
       "1.0"
      ]
     },
     "execution_count": 18,
     "metadata": {},
     "output_type": "execute_result"
    }
   ],
   "source": [
    "x"
   ]
  },
  {
   "cell_type": "code",
   "execution_count": 19,
   "id": "bd0a3eb6-6eac-4ecd-a36a-178f37ced672",
   "metadata": {},
   "outputs": [
    {
     "data": {
      "text/plain": [
       "3.0"
      ]
     },
     "execution_count": 19,
     "metadata": {},
     "output_type": "execute_result"
    }
   ],
   "source": [
    "y"
   ]
  },
  {
   "cell_type": "code",
   "execution_count": 22,
   "id": "e76db1fd-dd9d-466a-bd36-214605febb76",
   "metadata": {},
   "outputs": [],
   "source": [
    "swap = x"
   ]
  },
  {
   "cell_type": "code",
   "execution_count": 23,
   "id": "ce0e0b8b-d094-4122-9dfe-2610c9281a8c",
   "metadata": {},
   "outputs": [
    {
     "data": {
      "text/plain": [
       "1.0"
      ]
     },
     "execution_count": 23,
     "metadata": {},
     "output_type": "execute_result"
    }
   ],
   "source": [
    "swap"
   ]
  },
  {
   "cell_type": "code",
   "execution_count": 24,
   "id": "f6f783c6-1c90-44f6-a637-def8342cd368",
   "metadata": {},
   "outputs": [
    {
     "data": {
      "text/plain": [
       "3.0"
      ]
     },
     "execution_count": 24,
     "metadata": {},
     "output_type": "execute_result"
    }
   ],
   "source": [
    "y"
   ]
  },
  {
   "cell_type": "code",
   "execution_count": 25,
   "id": "9f848133-72ab-408b-87b2-5e97b323655d",
   "metadata": {},
   "outputs": [
    {
     "data": {
      "text/plain": [
       "1.0"
      ]
     },
     "execution_count": 25,
     "metadata": {},
     "output_type": "execute_result"
    }
   ],
   "source": [
    "x"
   ]
  },
  {
   "cell_type": "code",
   "execution_count": 26,
   "id": "9fc24979-7760-4b4d-9591-fc8d53fce88a",
   "metadata": {},
   "outputs": [],
   "source": [
    "x =y"
   ]
  },
  {
   "cell_type": "code",
   "execution_count": 27,
   "id": "b0d5a7f2-7d4a-43c7-9f60-a42c747065e9",
   "metadata": {},
   "outputs": [
    {
     "data": {
      "text/plain": [
       "3.0"
      ]
     },
     "execution_count": 27,
     "metadata": {},
     "output_type": "execute_result"
    }
   ],
   "source": [
    "x"
   ]
  },
  {
   "cell_type": "code",
   "execution_count": 29,
   "id": "2a27a8ab-9466-4527-9223-b711167e093d",
   "metadata": {},
   "outputs": [
    {
     "data": {
      "text/plain": [
       "3.0"
      ]
     },
     "execution_count": 29,
     "metadata": {},
     "output_type": "execute_result"
    }
   ],
   "source": [
    "y"
   ]
  },
  {
   "cell_type": "code",
   "execution_count": 30,
   "id": "e976ec10-8444-461d-b96f-3231b7283389",
   "metadata": {},
   "outputs": [],
   "source": [
    "y = swap"
   ]
  },
  {
   "cell_type": "code",
   "execution_count": 31,
   "id": "908c2b11-92b1-462a-93e4-c5a2c90a20a5",
   "metadata": {},
   "outputs": [
    {
     "data": {
      "text/plain": [
       "1.0"
      ]
     },
     "execution_count": 31,
     "metadata": {},
     "output_type": "execute_result"
    }
   ],
   "source": [
    "y"
   ]
  },
  {
   "cell_type": "code",
   "execution_count": null,
   "id": "052daf3e-111e-4ae1-aaf0-eab5f19401f1",
   "metadata": {},
   "outputs": [],
   "source": [
    "EXAMPLE: Fill the table showing the values of the variables in this program after each statement is executed.\n",
    "element\n",
    "# Command  # Value of x   # Value of y   # Value of swap #\n",
    "x = 1.0    1                                           \n",
    "y = 3.0    1              #              #               #\n",
    "swap = x   1              3              1               #\n",
    "x = y      3              3              1               #\n",
    "y = swap   3              1              1               #"
   ]
  },
  {
   "cell_type": "code",
   "execution_count": 39,
   "id": "4f1c81f2-dd2e-43e3-aefa-612d0c54b6a8",
   "metadata": {},
   "outputs": [],
   "source": [
    "species='acacia buxifolia'"
   ]
  },
  {
   "cell_type": "code",
   "execution_count": 40,
   "id": "4893e48c-82a2-4346-8023-827025565edc",
   "metadata": {},
   "outputs": [
    {
     "data": {
      "text/plain": [
       "'acia b'"
      ]
     },
     "execution_count": 40,
     "metadata": {},
     "output_type": "execute_result"
    }
   ],
   "source": [
    "species[2:8]"
   ]
  },
  {
   "cell_type": "code",
   "execution_count": 41,
   "id": "ee01097e-562f-4ef4-a1c1-4f4ff5786aa2",
   "metadata": {},
   "outputs": [
    {
     "ename": "NameError",
     "evalue": "name 'speces' is not defined",
     "output_type": "error",
     "traceback": [
      "\u001b[0;31m---------------------------------------------------------------------------\u001b[0m",
      "\u001b[0;31mNameError\u001b[0m                                 Traceback (most recent call last)",
      "\u001b[0;32m/var/folders/sr/h4rvpjpj1hq6ynpltqjszg0r0000gn/T/ipykernel_37555/1476462999.py\u001b[0m in \u001b[0;36m<module>\u001b[0;34m\u001b[0m\n\u001b[0;32m----> 1\u001b[0;31m \u001b[0mspeces\u001b[0m\u001b[0;34m[\u001b[0m\u001b[0;34m:\u001b[0m\u001b[0;34m]\u001b[0m\u001b[0;34m\u001b[0m\u001b[0;34m\u001b[0m\u001b[0m\n\u001b[0m",
      "\u001b[0;31mNameError\u001b[0m: name 'speces' is not defined"
     ]
    }
   ],
   "source": [
    "speces[:]"
   ]
  },
  {
   "cell_type": "code",
   "execution_count": 42,
   "id": "857fae4c-1fd6-4aa6-9c89-af07c215284b",
   "metadata": {},
   "outputs": [
    {
     "data": {
      "text/plain": [
       "'acacia buxifolia'"
      ]
     },
     "execution_count": 42,
     "metadata": {},
     "output_type": "execute_result"
    }
   ],
   "source": [
    "species[:103]"
   ]
  },
  {
   "cell_type": "code",
   "execution_count": 47,
   "id": "19fb6e81-9c99-430d-8945-9f3f85b13f19",
   "metadata": {},
   "outputs": [
    {
     "data": {
      "text/plain": [
       "''"
      ]
     },
     "execution_count": 47,
     "metadata": {},
     "output_type": "execute_result"
    }
   ],
   "source": [
    "species[-1:2]"
   ]
  },
  {
   "cell_type": "code",
   "execution_count": 49,
   "id": "f9f462da-a86e-4911-a611-5c4f11289ea5",
   "metadata": {},
   "outputs": [
    {
     "data": {
      "text/plain": [
       "'aca'"
      ]
     },
     "execution_count": 49,
     "metadata": {},
     "output_type": "execute_result"
    }
   ],
   "source": [
    "species[0:3]"
   ]
  },
  {
   "cell_type": "code",
   "execution_count": 51,
   "id": "88c6ff40-b402-4d8e-bd2d-b1f6aeaa4f0a",
   "metadata": {},
   "outputs": [
    {
     "data": {
      "text/plain": [
       "'acafoli'"
      ]
     },
     "execution_count": 51,
     "metadata": {},
     "output_type": "execute_result"
    }
   ],
   "source": [
    "species[0:3] + species[-5:-1]"
   ]
  },
  {
   "cell_type": "code",
   "execution_count": 52,
   "id": "0c363b02-4e87-42fe-b3b8-0bb087bcdd57",
   "metadata": {},
   "outputs": [],
   "source": [
    "max(5,6)\n",
    "string = 'hello'"
   ]
  },
  {
   "cell_type": "code",
   "execution_count": 53,
   "id": "ddb8328a-b81b-45d3-9ccb-c642d457a1f5",
   "metadata": {},
   "outputs": [
    {
     "data": {
      "text/plain": [
       "False"
      ]
     },
     "execution_count": 53,
     "metadata": {},
     "output_type": "execute_result"
    }
   ],
   "source": [
    "string.isupper()"
   ]
  },
  {
   "cell_type": "code",
   "execution_count": 54,
   "id": "53f8a420-d12d-496d-8095-a178d078074c",
   "metadata": {},
   "outputs": [
    {
     "data": {
      "text/plain": [
       "\u001b[0;31mSignature:\u001b[0m \u001b[0mlen\u001b[0m\u001b[0;34m(\u001b[0m\u001b[0mobj\u001b[0m\u001b[0;34m,\u001b[0m \u001b[0;34m/\u001b[0m\u001b[0;34m)\u001b[0m\u001b[0;34m\u001b[0m\u001b[0;34m\u001b[0m\u001b[0m\n",
       "\u001b[0;31mDocstring:\u001b[0m Return the number of items in a container.\n",
       "\u001b[0;31mType:\u001b[0m      builtin_function_or_method\n"
      ]
     },
     "metadata": {},
     "output_type": "display_data"
    }
   ],
   "source": [
    "len?"
   ]
  },
  {
   "cell_type": "code",
   "execution_count": 56,
   "id": "092d301e-c4ea-4fcf-acf5-b976718b8dc3",
   "metadata": {},
   "outputs": [
    {
     "name": "stdout",
     "output_type": "stream",
     "text": [
      "c\n"
     ]
    }
   ],
   "source": [
    "easy_string = \"abc\"\n",
    "print(max(easy_string))\n",
    "rich = \"gold\"\n",
    "poor = \"tin\""
   ]
  },
  {
   "cell_type": "code",
   "execution_count": 57,
   "id": "21946e43-f8d4-4e7e-aefa-db6ca0b1715f",
   "metadata": {},
   "outputs": [
    {
     "name": "stdout",
     "output_type": "stream",
     "text": [
      "tin\n"
     ]
    }
   ],
   "source": [
    "print(max(rich,poor))"
   ]
  },
  {
   "cell_type": "markdown",
   "id": "f9f0c267-6eed-47fa-91c3-d8c0d29a2f88",
   "metadata": {},
   "source": [
    "max gives the “Larger” value using (0-9, A-Z, a-z) to compare letters. So, when it compares the value of rich ('gold') and the value of poor ('tin'). The word tin is larger since it starts with t > g. "
   ]
  },
  {
   "cell_type": "code",
   "execution_count": 59,
   "id": "66bca9b9-7fe6-45ee-aabb-80c5752d1ead",
   "metadata": {},
   "outputs": [
    {
     "name": "stdout",
     "output_type": "stream",
     "text": [
      "4\n"
     ]
    }
   ],
   "source": [
    "print(max(len(rich),len(poor)))"
   ]
  },
  {
   "cell_type": "code",
   "execution_count": 60,
   "id": "bf2e52f4-5df4-41f5-9f66-a6310ff8853b",
   "metadata": {},
   "outputs": [
    {
     "data": {
      "text/plain": [
       "\u001b[0;31mDocstring:\u001b[0m\n",
       "max(iterable, *[, default=obj, key=func]) -> value\n",
       "max(arg1, arg2, *args, *[, key=func]) -> value\n",
       "\n",
       "With a single iterable argument, return its biggest item. The\n",
       "default keyword-only argument specifies an object to return if\n",
       "the provided iterable is empty.\n",
       "With two or more arguments, return the largest argument.\n",
       "\u001b[0;31mType:\u001b[0m      builtin_function_or_method\n"
      ]
     },
     "metadata": {},
     "output_type": "display_data"
    }
   ],
   "source": [
    "max?\n"
   ]
  },
  {
   "cell_type": "code",
   "execution_count": 64,
   "id": "6db923e5-c697-41ef-8c2a-e44a2d3fde48",
   "metadata": {},
   "outputs": [],
   "source": [
    "import math as m"
   ]
  },
  {
   "cell_type": "code",
   "execution_count": 65,
   "id": "0e32d41c-7bef-4446-be47-1ac2d2faffca",
   "metadata": {},
   "outputs": [],
   "source": [
    "from math import cos, log"
   ]
  },
  {
   "cell_type": "code",
   "execution_count": 66,
   "id": "01f088a3-4778-467b-b18f-68ed41eb522a",
   "metadata": {},
   "outputs": [
    {
     "name": "stdout",
     "output_type": "stream",
     "text": [
      "-1.0\n"
     ]
    }
   ],
   "source": [
    "print(m.cos(m.pi))"
   ]
  },
  {
   "cell_type": "code",
   "execution_count": 67,
   "id": "f5e742ff-caab-4973-ba10-e984b52bd1ce",
   "metadata": {},
   "outputs": [],
   "source": [
    "import random"
   ]
  },
  {
   "cell_type": "code",
   "execution_count": 70,
   "id": "59969fe2-e33c-4c80-ace3-68ed62d2c138",
   "metadata": {},
   "outputs": [
    {
     "ename": "TypeError",
     "evalue": "randrange() missing 1 required positional argument: 'start'",
     "output_type": "error",
     "traceback": [
      "\u001b[0;31m---------------------------------------------------------------------------\u001b[0m",
      "\u001b[0;31mTypeError\u001b[0m                                 Traceback (most recent call last)",
      "\u001b[0;32m/var/folders/sr/h4rvpjpj1hq6ynpltqjszg0r0000gn/T/ipykernel_37555/2278077932.py\u001b[0m in \u001b[0;36m<module>\u001b[0;34m\u001b[0m\n\u001b[0;32m----> 1\u001b[0;31m \u001b[0mrandom\u001b[0m\u001b[0;34m.\u001b[0m\u001b[0mrandrange\u001b[0m\u001b[0;34m(\u001b[0m\u001b[0;34m)\u001b[0m\u001b[0;34m\u001b[0m\u001b[0;34m\u001b[0m\u001b[0m\n\u001b[0m",
      "\u001b[0;31mTypeError\u001b[0m: randrange() missing 1 required positional argument: 'start'"
     ]
    }
   ],
   "source": [
    "random.randrange()"
   ]
  },
  {
   "cell_type": "code",
   "execution_count": 69,
   "id": "8ea0af04-2d9f-470f-b6da-b75d31f2cd72",
   "metadata": {},
   "outputs": [],
   "source": [
    "dna='ATCGTTCGA'"
   ]
  },
  {
   "cell_type": "code",
   "execution_count": 71,
   "id": "d9ce0ae5-e21e-463a-9996-f1b840522e96",
   "metadata": {},
   "outputs": [
    {
     "data": {
      "text/plain": [
       "9"
      ]
     },
     "execution_count": 71,
     "metadata": {},
     "output_type": "execute_result"
    }
   ],
   "source": [
    "len(dna)"
   ]
  },
  {
   "cell_type": "code",
   "execution_count": 72,
   "id": "3b1cee4f-e13d-4998-b6d5-ee035fa59cb4",
   "metadata": {},
   "outputs": [
    {
     "data": {
      "text/plain": [
       "3"
      ]
     },
     "execution_count": 72,
     "metadata": {},
     "output_type": "execute_result"
    }
   ],
   "source": [
    "random.randrange(0,len(dna))"
   ]
  },
  {
   "cell_type": "code",
   "execution_count": 74,
   "id": "f36511ba-b106-468f-8292-5ed940f1bc2c",
   "metadata": {},
   "outputs": [
    {
     "data": {
      "text/plain": [
       "'T'"
      ]
     },
     "execution_count": 74,
     "metadata": {},
     "output_type": "execute_result"
    }
   ],
   "source": [
    "dna[random.randrange(0,len(dna))]"
   ]
  },
  {
   "cell_type": "markdown",
   "id": "2f6eeeef-90b7-4684-aba4-d801a4dbb7a2",
   "metadata": {},
   "source": [
    "the above gives a random number and then assigns a letter asosciated with the index of the random number"
   ]
  },
  {
   "cell_type": "code",
   "execution_count": 77,
   "id": "c6ee7143-4bad-4bfb-80f4-390defa527dd",
   "metadata": {
    "tags": []
   },
   "outputs": [],
   "source": [
    "bases=\"ACTTGCTTGAC\""
   ]
  },
  {
   "cell_type": "code",
   "execution_count": 78,
   "id": "149978cd-d6df-4361-9ca5-b61f468bf19d",
   "metadata": {},
   "outputs": [],
   "source": [
    "n_bases = len(bases)"
   ]
  },
  {
   "cell_type": "code",
   "execution_count": 79,
   "id": "bf588584-2310-4607-b53b-2e1bac24667f",
   "metadata": {},
   "outputs": [],
   "source": [
    "smth=random.randrange(n_bases)"
   ]
  },
  {
   "cell_type": "code",
   "execution_count": 80,
   "id": "24e4eb2b-5cae-4b67-9596-ea992eb7b692",
   "metadata": {},
   "outputs": [],
   "source": [
    "import pandas as pd"
   ]
  },
  {
   "cell_type": "markdown",
   "id": "aceb6972-39f4-4bae-9ae9-63260596a123",
   "metadata": {},
   "source": [
    "under the hood, pandas dataframes functions like a dictionary. "
   ]
  },
  {
   "cell_type": "code",
   "execution_count": 84,
   "id": "631d0f3c-3319-4781-bc23-2d0e93225834",
   "metadata": {},
   "outputs": [
    {
     "ename": "SyntaxError",
     "evalue": "unexpected EOF while parsing (2506568926.py, line 1)",
     "output_type": "error",
     "traceback": [
      "\u001b[0;36m  File \u001b[0;32m\"/var/folders/sr/h4rvpjpj1hq6ynpltqjszg0r0000gn/T/ipykernel_37555/2506568926.py\"\u001b[0;36m, line \u001b[0;32m1\u001b[0m\n\u001b[0;31m    oceania=pd.read_csv('data/gapminder_gdp_oceania.csv', index_col=('country')\u001b[0m\n\u001b[0m                                                                               ^\u001b[0m\n\u001b[0;31mSyntaxError\u001b[0m\u001b[0;31m:\u001b[0m unexpected EOF while parsing\n"
     ]
    }
   ],
   "source": [
    "oceania=pd.read_csv('data/gapminder_gdp_oceania.csv', index_col=('country'))"
   ]
  },
  {
   "cell_type": "code",
   "execution_count": 85,
   "id": "e64ae500-f76f-4bfe-8ba4-2d043db6eed9",
   "metadata": {},
   "outputs": [
    {
     "data": {
      "text/plain": [
       "'/Users/hannahts'"
      ]
     },
     "execution_count": 85,
     "metadata": {},
     "output_type": "execute_result"
    }
   ],
   "source": [
    "pwd"
   ]
  },
  {
   "cell_type": "code",
   "execution_count": 86,
   "id": "f44ff5c2-8cfb-4a2c-a98b-f99788e2bab7",
   "metadata": {},
   "outputs": [
    {
     "name": "stdout",
     "output_type": "stream",
     "text": [
      "/Users/hannahts/Desktop\n"
     ]
    }
   ],
   "source": [
    "cd Desktop"
   ]
  },
  {
   "cell_type": "code",
   "execution_count": 88,
   "id": "cc0f187d-4f5f-45ba-8b5e-a8f1444f26bf",
   "metadata": {},
   "outputs": [
    {
     "name": "stdout",
     "output_type": "stream",
     "text": [
      "/Users/hannahts/Desktop/carpentries2022\n"
     ]
    }
   ],
   "source": [
    "cd carpentries2022"
   ]
  },
  {
   "cell_type": "code",
   "execution_count": 89,
   "id": "dcb561a6-ca97-4a17-b568-a9cdf606375e",
   "metadata": {},
   "outputs": [],
   "source": [
    "oceania=pd.read_csv('data/gapminder_gdp_oceania.csv', index_col=('country'))"
   ]
  },
  {
   "cell_type": "code",
   "execution_count": 90,
   "id": "be7575fe-4e64-4277-a62b-fdfebfcbb45f",
   "metadata": {},
   "outputs": [
    {
     "data": {
      "text/html": [
       "<div>\n",
       "<style scoped>\n",
       "    .dataframe tbody tr th:only-of-type {\n",
       "        vertical-align: middle;\n",
       "    }\n",
       "\n",
       "    .dataframe tbody tr th {\n",
       "        vertical-align: top;\n",
       "    }\n",
       "\n",
       "    .dataframe thead th {\n",
       "        text-align: right;\n",
       "    }\n",
       "</style>\n",
       "<table border=\"1\" class=\"dataframe\">\n",
       "  <thead>\n",
       "    <tr style=\"text-align: right;\">\n",
       "      <th></th>\n",
       "      <th>gdpPercap_1952</th>\n",
       "      <th>gdpPercap_1957</th>\n",
       "      <th>gdpPercap_1962</th>\n",
       "      <th>gdpPercap_1967</th>\n",
       "      <th>gdpPercap_1972</th>\n",
       "      <th>gdpPercap_1977</th>\n",
       "      <th>gdpPercap_1982</th>\n",
       "      <th>gdpPercap_1987</th>\n",
       "      <th>gdpPercap_1992</th>\n",
       "      <th>gdpPercap_1997</th>\n",
       "      <th>gdpPercap_2002</th>\n",
       "      <th>gdpPercap_2007</th>\n",
       "    </tr>\n",
       "  </thead>\n",
       "  <tbody>\n",
       "    <tr>\n",
       "      <th>count</th>\n",
       "      <td>2.000000</td>\n",
       "      <td>2.000000</td>\n",
       "      <td>2.000000</td>\n",
       "      <td>2.000000</td>\n",
       "      <td>2.00000</td>\n",
       "      <td>2.000000</td>\n",
       "      <td>2.000000</td>\n",
       "      <td>2.000000</td>\n",
       "      <td>2.000000</td>\n",
       "      <td>2.000000</td>\n",
       "      <td>2.000000</td>\n",
       "      <td>2.000000</td>\n",
       "    </tr>\n",
       "    <tr>\n",
       "      <th>mean</th>\n",
       "      <td>10298.085650</td>\n",
       "      <td>11598.522455</td>\n",
       "      <td>12696.452430</td>\n",
       "      <td>14495.021790</td>\n",
       "      <td>16417.33338</td>\n",
       "      <td>17283.957605</td>\n",
       "      <td>18554.709840</td>\n",
       "      <td>20448.040160</td>\n",
       "      <td>20894.045885</td>\n",
       "      <td>24024.175170</td>\n",
       "      <td>26938.778040</td>\n",
       "      <td>29810.188275</td>\n",
       "    </tr>\n",
       "    <tr>\n",
       "      <th>std</th>\n",
       "      <td>365.560078</td>\n",
       "      <td>917.644806</td>\n",
       "      <td>677.727301</td>\n",
       "      <td>43.986086</td>\n",
       "      <td>525.09198</td>\n",
       "      <td>1485.263517</td>\n",
       "      <td>1304.328377</td>\n",
       "      <td>2037.668013</td>\n",
       "      <td>3578.979883</td>\n",
       "      <td>4205.533703</td>\n",
       "      <td>5301.853680</td>\n",
       "      <td>6540.991104</td>\n",
       "    </tr>\n",
       "    <tr>\n",
       "      <th>min</th>\n",
       "      <td>10039.595640</td>\n",
       "      <td>10949.649590</td>\n",
       "      <td>12217.226860</td>\n",
       "      <td>14463.918930</td>\n",
       "      <td>16046.03728</td>\n",
       "      <td>16233.717700</td>\n",
       "      <td>17632.410400</td>\n",
       "      <td>19007.191290</td>\n",
       "      <td>18363.324940</td>\n",
       "      <td>21050.413770</td>\n",
       "      <td>23189.801350</td>\n",
       "      <td>25185.009110</td>\n",
       "    </tr>\n",
       "    <tr>\n",
       "      <th>25%</th>\n",
       "      <td>10168.840645</td>\n",
       "      <td>11274.086022</td>\n",
       "      <td>12456.839645</td>\n",
       "      <td>14479.470360</td>\n",
       "      <td>16231.68533</td>\n",
       "      <td>16758.837652</td>\n",
       "      <td>18093.560120</td>\n",
       "      <td>19727.615725</td>\n",
       "      <td>19628.685412</td>\n",
       "      <td>22537.294470</td>\n",
       "      <td>25064.289695</td>\n",
       "      <td>27497.598692</td>\n",
       "    </tr>\n",
       "    <tr>\n",
       "      <th>50%</th>\n",
       "      <td>10298.085650</td>\n",
       "      <td>11598.522455</td>\n",
       "      <td>12696.452430</td>\n",
       "      <td>14495.021790</td>\n",
       "      <td>16417.33338</td>\n",
       "      <td>17283.957605</td>\n",
       "      <td>18554.709840</td>\n",
       "      <td>20448.040160</td>\n",
       "      <td>20894.045885</td>\n",
       "      <td>24024.175170</td>\n",
       "      <td>26938.778040</td>\n",
       "      <td>29810.188275</td>\n",
       "    </tr>\n",
       "    <tr>\n",
       "      <th>75%</th>\n",
       "      <td>10427.330655</td>\n",
       "      <td>11922.958888</td>\n",
       "      <td>12936.065215</td>\n",
       "      <td>14510.573220</td>\n",
       "      <td>16602.98143</td>\n",
       "      <td>17809.077558</td>\n",
       "      <td>19015.859560</td>\n",
       "      <td>21168.464595</td>\n",
       "      <td>22159.406358</td>\n",
       "      <td>25511.055870</td>\n",
       "      <td>28813.266385</td>\n",
       "      <td>32122.777858</td>\n",
       "    </tr>\n",
       "    <tr>\n",
       "      <th>max</th>\n",
       "      <td>10556.575660</td>\n",
       "      <td>12247.395320</td>\n",
       "      <td>13175.678000</td>\n",
       "      <td>14526.124650</td>\n",
       "      <td>16788.62948</td>\n",
       "      <td>18334.197510</td>\n",
       "      <td>19477.009280</td>\n",
       "      <td>21888.889030</td>\n",
       "      <td>23424.766830</td>\n",
       "      <td>26997.936570</td>\n",
       "      <td>30687.754730</td>\n",
       "      <td>34435.367440</td>\n",
       "    </tr>\n",
       "  </tbody>\n",
       "</table>\n",
       "</div>"
      ],
      "text/plain": [
       "       gdpPercap_1952  gdpPercap_1957  gdpPercap_1962  gdpPercap_1967  \\\n",
       "count        2.000000        2.000000        2.000000        2.000000   \n",
       "mean     10298.085650    11598.522455    12696.452430    14495.021790   \n",
       "std        365.560078      917.644806      677.727301       43.986086   \n",
       "min      10039.595640    10949.649590    12217.226860    14463.918930   \n",
       "25%      10168.840645    11274.086022    12456.839645    14479.470360   \n",
       "50%      10298.085650    11598.522455    12696.452430    14495.021790   \n",
       "75%      10427.330655    11922.958888    12936.065215    14510.573220   \n",
       "max      10556.575660    12247.395320    13175.678000    14526.124650   \n",
       "\n",
       "       gdpPercap_1972  gdpPercap_1977  gdpPercap_1982  gdpPercap_1987  \\\n",
       "count         2.00000        2.000000        2.000000        2.000000   \n",
       "mean      16417.33338    17283.957605    18554.709840    20448.040160   \n",
       "std         525.09198     1485.263517     1304.328377     2037.668013   \n",
       "min       16046.03728    16233.717700    17632.410400    19007.191290   \n",
       "25%       16231.68533    16758.837652    18093.560120    19727.615725   \n",
       "50%       16417.33338    17283.957605    18554.709840    20448.040160   \n",
       "75%       16602.98143    17809.077558    19015.859560    21168.464595   \n",
       "max       16788.62948    18334.197510    19477.009280    21888.889030   \n",
       "\n",
       "       gdpPercap_1992  gdpPercap_1997  gdpPercap_2002  gdpPercap_2007  \n",
       "count        2.000000        2.000000        2.000000        2.000000  \n",
       "mean     20894.045885    24024.175170    26938.778040    29810.188275  \n",
       "std       3578.979883     4205.533703     5301.853680     6540.991104  \n",
       "min      18363.324940    21050.413770    23189.801350    25185.009110  \n",
       "25%      19628.685412    22537.294470    25064.289695    27497.598692  \n",
       "50%      20894.045885    24024.175170    26938.778040    29810.188275  \n",
       "75%      22159.406358    25511.055870    28813.266385    32122.777858  \n",
       "max      23424.766830    26997.936570    30687.754730    34435.367440  "
      ]
     },
     "execution_count": 90,
     "metadata": {},
     "output_type": "execute_result"
    }
   ],
   "source": [
    "oceania.describe()"
   ]
  },
  {
   "cell_type": "code",
   "execution_count": 91,
   "id": "335a2ecc-8cea-47c4-b39c-9fb7eda508f5",
   "metadata": {},
   "outputs": [],
   "source": [
    "africa=pd.read_csv('data/gapminder_gdp_africa.csv', index_col=('country'))"
   ]
  },
  {
   "cell_type": "code",
   "execution_count": 92,
   "id": "358c0892-8126-4519-b71e-524d73a01eb8",
   "metadata": {},
   "outputs": [
    {
     "data": {
      "text/html": [
       "<div>\n",
       "<style scoped>\n",
       "    .dataframe tbody tr th:only-of-type {\n",
       "        vertical-align: middle;\n",
       "    }\n",
       "\n",
       "    .dataframe tbody tr th {\n",
       "        vertical-align: top;\n",
       "    }\n",
       "\n",
       "    .dataframe thead th {\n",
       "        text-align: right;\n",
       "    }\n",
       "</style>\n",
       "<table border=\"1\" class=\"dataframe\">\n",
       "  <thead>\n",
       "    <tr style=\"text-align: right;\">\n",
       "      <th></th>\n",
       "      <th>gdpPercap_1952</th>\n",
       "      <th>gdpPercap_1957</th>\n",
       "      <th>gdpPercap_1962</th>\n",
       "      <th>gdpPercap_1967</th>\n",
       "      <th>gdpPercap_1972</th>\n",
       "      <th>gdpPercap_1977</th>\n",
       "      <th>gdpPercap_1982</th>\n",
       "      <th>gdpPercap_1987</th>\n",
       "      <th>gdpPercap_1992</th>\n",
       "      <th>gdpPercap_1997</th>\n",
       "      <th>gdpPercap_2002</th>\n",
       "      <th>gdpPercap_2007</th>\n",
       "    </tr>\n",
       "  </thead>\n",
       "  <tbody>\n",
       "    <tr>\n",
       "      <th>count</th>\n",
       "      <td>52.000000</td>\n",
       "      <td>52.000000</td>\n",
       "      <td>52.000000</td>\n",
       "      <td>52.000000</td>\n",
       "      <td>52.000000</td>\n",
       "      <td>52.000000</td>\n",
       "      <td>52.000000</td>\n",
       "      <td>52.000000</td>\n",
       "      <td>52.000000</td>\n",
       "      <td>52.000000</td>\n",
       "      <td>52.000000</td>\n",
       "      <td>52.000000</td>\n",
       "    </tr>\n",
       "    <tr>\n",
       "      <th>mean</th>\n",
       "      <td>1252.572466</td>\n",
       "      <td>1385.236062</td>\n",
       "      <td>1598.078825</td>\n",
       "      <td>2050.363801</td>\n",
       "      <td>2339.615674</td>\n",
       "      <td>2585.938508</td>\n",
       "      <td>2481.592960</td>\n",
       "      <td>2282.668991</td>\n",
       "      <td>2281.810333</td>\n",
       "      <td>2378.759555</td>\n",
       "      <td>2599.385159</td>\n",
       "      <td>3089.032605</td>\n",
       "    </tr>\n",
       "    <tr>\n",
       "      <th>std</th>\n",
       "      <td>982.952116</td>\n",
       "      <td>1134.508918</td>\n",
       "      <td>1461.839189</td>\n",
       "      <td>2847.717603</td>\n",
       "      <td>3286.853884</td>\n",
       "      <td>4142.398707</td>\n",
       "      <td>3242.632753</td>\n",
       "      <td>2566.531947</td>\n",
       "      <td>2644.075602</td>\n",
       "      <td>2820.728117</td>\n",
       "      <td>2972.651308</td>\n",
       "      <td>3618.163491</td>\n",
       "    </tr>\n",
       "    <tr>\n",
       "      <th>min</th>\n",
       "      <td>298.846212</td>\n",
       "      <td>335.997115</td>\n",
       "      <td>355.203227</td>\n",
       "      <td>412.977514</td>\n",
       "      <td>464.099504</td>\n",
       "      <td>502.319733</td>\n",
       "      <td>462.211415</td>\n",
       "      <td>389.876185</td>\n",
       "      <td>410.896824</td>\n",
       "      <td>312.188423</td>\n",
       "      <td>241.165876</td>\n",
       "      <td>277.551859</td>\n",
       "    </tr>\n",
       "    <tr>\n",
       "      <th>25%</th>\n",
       "      <td>534.990554</td>\n",
       "      <td>606.954355</td>\n",
       "      <td>673.329046</td>\n",
       "      <td>779.815648</td>\n",
       "      <td>815.919804</td>\n",
       "      <td>805.612125</td>\n",
       "      <td>828.656854</td>\n",
       "      <td>764.598759</td>\n",
       "      <td>743.908497</td>\n",
       "      <td>791.901966</td>\n",
       "      <td>780.577824</td>\n",
       "      <td>862.951537</td>\n",
       "    </tr>\n",
       "    <tr>\n",
       "      <th>50%</th>\n",
       "      <td>987.025569</td>\n",
       "      <td>1024.022987</td>\n",
       "      <td>1133.783678</td>\n",
       "      <td>1210.376379</td>\n",
       "      <td>1443.372508</td>\n",
       "      <td>1399.638836</td>\n",
       "      <td>1323.728306</td>\n",
       "      <td>1219.585563</td>\n",
       "      <td>1161.631357</td>\n",
       "      <td>1179.883114</td>\n",
       "      <td>1215.683217</td>\n",
       "      <td>1452.267078</td>\n",
       "    </tr>\n",
       "    <tr>\n",
       "      <th>75%</th>\n",
       "      <td>1454.886645</td>\n",
       "      <td>1573.040442</td>\n",
       "      <td>1702.219247</td>\n",
       "      <td>1890.112274</td>\n",
       "      <td>2292.258613</td>\n",
       "      <td>2841.282025</td>\n",
       "      <td>2787.582271</td>\n",
       "      <td>2786.310885</td>\n",
       "      <td>2707.896077</td>\n",
       "      <td>2856.386031</td>\n",
       "      <td>3314.887180</td>\n",
       "      <td>3993.501583</td>\n",
       "    </tr>\n",
       "    <tr>\n",
       "      <th>max</th>\n",
       "      <td>4725.295531</td>\n",
       "      <td>5487.104219</td>\n",
       "      <td>6757.030816</td>\n",
       "      <td>18772.751690</td>\n",
       "      <td>21011.497210</td>\n",
       "      <td>21951.211760</td>\n",
       "      <td>17364.275380</td>\n",
       "      <td>11864.408440</td>\n",
       "      <td>13522.157520</td>\n",
       "      <td>14722.841880</td>\n",
       "      <td>12521.713920</td>\n",
       "      <td>13206.484520</td>\n",
       "    </tr>\n",
       "  </tbody>\n",
       "</table>\n",
       "</div>"
      ],
      "text/plain": [
       "       gdpPercap_1952  gdpPercap_1957  gdpPercap_1962  gdpPercap_1967  \\\n",
       "count       52.000000       52.000000       52.000000       52.000000   \n",
       "mean      1252.572466     1385.236062     1598.078825     2050.363801   \n",
       "std        982.952116     1134.508918     1461.839189     2847.717603   \n",
       "min        298.846212      335.997115      355.203227      412.977514   \n",
       "25%        534.990554      606.954355      673.329046      779.815648   \n",
       "50%        987.025569     1024.022987     1133.783678     1210.376379   \n",
       "75%       1454.886645     1573.040442     1702.219247     1890.112274   \n",
       "max       4725.295531     5487.104219     6757.030816    18772.751690   \n",
       "\n",
       "       gdpPercap_1972  gdpPercap_1977  gdpPercap_1982  gdpPercap_1987  \\\n",
       "count       52.000000       52.000000       52.000000       52.000000   \n",
       "mean      2339.615674     2585.938508     2481.592960     2282.668991   \n",
       "std       3286.853884     4142.398707     3242.632753     2566.531947   \n",
       "min        464.099504      502.319733      462.211415      389.876185   \n",
       "25%        815.919804      805.612125      828.656854      764.598759   \n",
       "50%       1443.372508     1399.638836     1323.728306     1219.585563   \n",
       "75%       2292.258613     2841.282025     2787.582271     2786.310885   \n",
       "max      21011.497210    21951.211760    17364.275380    11864.408440   \n",
       "\n",
       "       gdpPercap_1992  gdpPercap_1997  gdpPercap_2002  gdpPercap_2007  \n",
       "count       52.000000       52.000000       52.000000       52.000000  \n",
       "mean      2281.810333     2378.759555     2599.385159     3089.032605  \n",
       "std       2644.075602     2820.728117     2972.651308     3618.163491  \n",
       "min        410.896824      312.188423      241.165876      277.551859  \n",
       "25%        743.908497      791.901966      780.577824      862.951537  \n",
       "50%       1161.631357     1179.883114     1215.683217     1452.267078  \n",
       "75%       2707.896077     2856.386031     3314.887180     3993.501583  \n",
       "max      13522.157520    14722.841880    12521.713920    13206.484520  "
      ]
     },
     "execution_count": 92,
     "metadata": {},
     "output_type": "execute_result"
    }
   ],
   "source": [
    "africa.describe()"
   ]
  },
  {
   "cell_type": "code",
   "execution_count": 93,
   "id": "3333644b-b1ac-4998-ad22-637824f5faaa",
   "metadata": {},
   "outputs": [
    {
     "data": {
      "text/html": [
       "<div>\n",
       "<style scoped>\n",
       "    .dataframe tbody tr th:only-of-type {\n",
       "        vertical-align: middle;\n",
       "    }\n",
       "\n",
       "    .dataframe tbody tr th {\n",
       "        vertical-align: top;\n",
       "    }\n",
       "\n",
       "    .dataframe thead th {\n",
       "        text-align: right;\n",
       "    }\n",
       "</style>\n",
       "<table border=\"1\" class=\"dataframe\">\n",
       "  <thead>\n",
       "    <tr style=\"text-align: right;\">\n",
       "      <th>country</th>\n",
       "      <th>Algeria</th>\n",
       "      <th>Angola</th>\n",
       "      <th>Benin</th>\n",
       "      <th>Botswana</th>\n",
       "      <th>Burkina Faso</th>\n",
       "      <th>Burundi</th>\n",
       "      <th>Cameroon</th>\n",
       "      <th>Central African Republic</th>\n",
       "      <th>Chad</th>\n",
       "      <th>Comoros</th>\n",
       "      <th>...</th>\n",
       "      <th>Somalia</th>\n",
       "      <th>South Africa</th>\n",
       "      <th>Sudan</th>\n",
       "      <th>Swaziland</th>\n",
       "      <th>Tanzania</th>\n",
       "      <th>Togo</th>\n",
       "      <th>Tunisia</th>\n",
       "      <th>Uganda</th>\n",
       "      <th>Zambia</th>\n",
       "      <th>Zimbabwe</th>\n",
       "    </tr>\n",
       "  </thead>\n",
       "  <tbody>\n",
       "    <tr>\n",
       "      <th>gdpPercap_1952</th>\n",
       "      <td>2449.008185</td>\n",
       "      <td>3520.610273</td>\n",
       "      <td>1062.752200</td>\n",
       "      <td>851.241141</td>\n",
       "      <td>543.255241</td>\n",
       "      <td>339.296459</td>\n",
       "      <td>1172.667655</td>\n",
       "      <td>1071.310713</td>\n",
       "      <td>1178.665927</td>\n",
       "      <td>1102.990936</td>\n",
       "      <td>...</td>\n",
       "      <td>1135.749842</td>\n",
       "      <td>4725.295531</td>\n",
       "      <td>1615.991129</td>\n",
       "      <td>1148.376626</td>\n",
       "      <td>716.650072</td>\n",
       "      <td>859.808657</td>\n",
       "      <td>1468.475631</td>\n",
       "      <td>734.753484</td>\n",
       "      <td>1147.388831</td>\n",
       "      <td>406.884115</td>\n",
       "    </tr>\n",
       "    <tr>\n",
       "      <th>gdpPercap_1957</th>\n",
       "      <td>3013.976023</td>\n",
       "      <td>3827.940465</td>\n",
       "      <td>959.601080</td>\n",
       "      <td>918.232535</td>\n",
       "      <td>617.183465</td>\n",
       "      <td>379.564628</td>\n",
       "      <td>1313.048099</td>\n",
       "      <td>1190.844328</td>\n",
       "      <td>1308.495577</td>\n",
       "      <td>1211.148548</td>\n",
       "      <td>...</td>\n",
       "      <td>1258.147413</td>\n",
       "      <td>5487.104219</td>\n",
       "      <td>1770.337074</td>\n",
       "      <td>1244.708364</td>\n",
       "      <td>698.535607</td>\n",
       "      <td>925.908320</td>\n",
       "      <td>1395.232468</td>\n",
       "      <td>774.371069</td>\n",
       "      <td>1311.956766</td>\n",
       "      <td>518.764268</td>\n",
       "    </tr>\n",
       "    <tr>\n",
       "      <th>gdpPercap_1962</th>\n",
       "      <td>2550.816880</td>\n",
       "      <td>4269.276742</td>\n",
       "      <td>949.499064</td>\n",
       "      <td>983.653976</td>\n",
       "      <td>722.512021</td>\n",
       "      <td>355.203227</td>\n",
       "      <td>1399.607441</td>\n",
       "      <td>1193.068753</td>\n",
       "      <td>1389.817618</td>\n",
       "      <td>1406.648278</td>\n",
       "      <td>...</td>\n",
       "      <td>1369.488336</td>\n",
       "      <td>5768.729717</td>\n",
       "      <td>1959.593767</td>\n",
       "      <td>1856.182125</td>\n",
       "      <td>722.003807</td>\n",
       "      <td>1067.534810</td>\n",
       "      <td>1660.303210</td>\n",
       "      <td>767.271740</td>\n",
       "      <td>1452.725766</td>\n",
       "      <td>527.272182</td>\n",
       "    </tr>\n",
       "    <tr>\n",
       "      <th>gdpPercap_1967</th>\n",
       "      <td>3246.991771</td>\n",
       "      <td>5522.776375</td>\n",
       "      <td>1035.831411</td>\n",
       "      <td>1214.709294</td>\n",
       "      <td>794.826560</td>\n",
       "      <td>412.977514</td>\n",
       "      <td>1508.453148</td>\n",
       "      <td>1136.056615</td>\n",
       "      <td>1196.810565</td>\n",
       "      <td>1876.029643</td>\n",
       "      <td>...</td>\n",
       "      <td>1284.733180</td>\n",
       "      <td>7114.477971</td>\n",
       "      <td>1687.997641</td>\n",
       "      <td>2613.101665</td>\n",
       "      <td>848.218657</td>\n",
       "      <td>1477.596760</td>\n",
       "      <td>1932.360167</td>\n",
       "      <td>908.918522</td>\n",
       "      <td>1777.077318</td>\n",
       "      <td>569.795071</td>\n",
       "    </tr>\n",
       "    <tr>\n",
       "      <th>gdpPercap_1972</th>\n",
       "      <td>4182.663766</td>\n",
       "      <td>5473.288005</td>\n",
       "      <td>1085.796879</td>\n",
       "      <td>2263.611114</td>\n",
       "      <td>854.735976</td>\n",
       "      <td>464.099504</td>\n",
       "      <td>1684.146528</td>\n",
       "      <td>1070.013275</td>\n",
       "      <td>1104.103987</td>\n",
       "      <td>1937.577675</td>\n",
       "      <td>...</td>\n",
       "      <td>1254.576127</td>\n",
       "      <td>7765.962636</td>\n",
       "      <td>1659.652775</td>\n",
       "      <td>3364.836625</td>\n",
       "      <td>915.985059</td>\n",
       "      <td>1649.660188</td>\n",
       "      <td>2753.285994</td>\n",
       "      <td>950.735869</td>\n",
       "      <td>1773.498265</td>\n",
       "      <td>799.362176</td>\n",
       "    </tr>\n",
       "    <tr>\n",
       "      <th>gdpPercap_1977</th>\n",
       "      <td>4910.416756</td>\n",
       "      <td>3008.647355</td>\n",
       "      <td>1029.161251</td>\n",
       "      <td>3214.857818</td>\n",
       "      <td>743.387037</td>\n",
       "      <td>556.103265</td>\n",
       "      <td>1783.432873</td>\n",
       "      <td>1109.374338</td>\n",
       "      <td>1133.984950</td>\n",
       "      <td>1172.603047</td>\n",
       "      <td>...</td>\n",
       "      <td>1450.992513</td>\n",
       "      <td>8028.651439</td>\n",
       "      <td>2202.988423</td>\n",
       "      <td>3781.410618</td>\n",
       "      <td>962.492293</td>\n",
       "      <td>1532.776998</td>\n",
       "      <td>3120.876811</td>\n",
       "      <td>843.733137</td>\n",
       "      <td>1588.688299</td>\n",
       "      <td>685.587682</td>\n",
       "    </tr>\n",
       "    <tr>\n",
       "      <th>gdpPercap_1982</th>\n",
       "      <td>5745.160213</td>\n",
       "      <td>2756.953672</td>\n",
       "      <td>1277.897616</td>\n",
       "      <td>4551.142150</td>\n",
       "      <td>807.198586</td>\n",
       "      <td>559.603231</td>\n",
       "      <td>2367.983282</td>\n",
       "      <td>956.752991</td>\n",
       "      <td>797.908101</td>\n",
       "      <td>1267.100083</td>\n",
       "      <td>...</td>\n",
       "      <td>1176.807031</td>\n",
       "      <td>8568.266228</td>\n",
       "      <td>1895.544073</td>\n",
       "      <td>3895.384018</td>\n",
       "      <td>874.242607</td>\n",
       "      <td>1344.577953</td>\n",
       "      <td>3560.233174</td>\n",
       "      <td>682.266227</td>\n",
       "      <td>1408.678565</td>\n",
       "      <td>788.855041</td>\n",
       "    </tr>\n",
       "    <tr>\n",
       "      <th>gdpPercap_1987</th>\n",
       "      <td>5681.358539</td>\n",
       "      <td>2430.208311</td>\n",
       "      <td>1225.856010</td>\n",
       "      <td>6205.883850</td>\n",
       "      <td>912.063142</td>\n",
       "      <td>621.818819</td>\n",
       "      <td>2602.664206</td>\n",
       "      <td>844.876350</td>\n",
       "      <td>952.386129</td>\n",
       "      <td>1315.980812</td>\n",
       "      <td>...</td>\n",
       "      <td>1093.244963</td>\n",
       "      <td>7825.823398</td>\n",
       "      <td>1507.819159</td>\n",
       "      <td>3984.839812</td>\n",
       "      <td>831.822079</td>\n",
       "      <td>1202.201361</td>\n",
       "      <td>3810.419296</td>\n",
       "      <td>617.724406</td>\n",
       "      <td>1213.315116</td>\n",
       "      <td>706.157306</td>\n",
       "    </tr>\n",
       "    <tr>\n",
       "      <th>gdpPercap_1992</th>\n",
       "      <td>5023.216647</td>\n",
       "      <td>2627.845685</td>\n",
       "      <td>1191.207681</td>\n",
       "      <td>7954.111645</td>\n",
       "      <td>931.752773</td>\n",
       "      <td>631.699878</td>\n",
       "      <td>1793.163278</td>\n",
       "      <td>747.905525</td>\n",
       "      <td>1058.064300</td>\n",
       "      <td>1246.907370</td>\n",
       "      <td>...</td>\n",
       "      <td>926.960296</td>\n",
       "      <td>7225.069258</td>\n",
       "      <td>1492.197043</td>\n",
       "      <td>3553.022400</td>\n",
       "      <td>825.682454</td>\n",
       "      <td>1034.298904</td>\n",
       "      <td>4332.720164</td>\n",
       "      <td>644.170797</td>\n",
       "      <td>1210.884633</td>\n",
       "      <td>693.420786</td>\n",
       "    </tr>\n",
       "    <tr>\n",
       "      <th>gdpPercap_1997</th>\n",
       "      <td>4797.295051</td>\n",
       "      <td>2277.140884</td>\n",
       "      <td>1232.975292</td>\n",
       "      <td>8647.142313</td>\n",
       "      <td>946.294962</td>\n",
       "      <td>463.115148</td>\n",
       "      <td>1694.337469</td>\n",
       "      <td>740.506332</td>\n",
       "      <td>1004.961353</td>\n",
       "      <td>1173.618235</td>\n",
       "      <td>...</td>\n",
       "      <td>930.596428</td>\n",
       "      <td>7479.188244</td>\n",
       "      <td>1632.210764</td>\n",
       "      <td>3876.768460</td>\n",
       "      <td>789.186223</td>\n",
       "      <td>982.286924</td>\n",
       "      <td>4876.798614</td>\n",
       "      <td>816.559081</td>\n",
       "      <td>1071.353818</td>\n",
       "      <td>792.449960</td>\n",
       "    </tr>\n",
       "    <tr>\n",
       "      <th>gdpPercap_2002</th>\n",
       "      <td>5288.040382</td>\n",
       "      <td>2773.287312</td>\n",
       "      <td>1372.877931</td>\n",
       "      <td>11003.605080</td>\n",
       "      <td>1037.645221</td>\n",
       "      <td>446.403513</td>\n",
       "      <td>1934.011449</td>\n",
       "      <td>738.690607</td>\n",
       "      <td>1156.181860</td>\n",
       "      <td>1075.811558</td>\n",
       "      <td>...</td>\n",
       "      <td>882.081822</td>\n",
       "      <td>7710.946444</td>\n",
       "      <td>1993.398314</td>\n",
       "      <td>4128.116943</td>\n",
       "      <td>899.074211</td>\n",
       "      <td>886.220576</td>\n",
       "      <td>5722.895655</td>\n",
       "      <td>927.721002</td>\n",
       "      <td>1071.613938</td>\n",
       "      <td>672.038623</td>\n",
       "    </tr>\n",
       "    <tr>\n",
       "      <th>gdpPercap_2007</th>\n",
       "      <td>6223.367465</td>\n",
       "      <td>4797.231267</td>\n",
       "      <td>1441.284873</td>\n",
       "      <td>12569.851770</td>\n",
       "      <td>1217.032994</td>\n",
       "      <td>430.070692</td>\n",
       "      <td>2042.095240</td>\n",
       "      <td>706.016537</td>\n",
       "      <td>1704.063724</td>\n",
       "      <td>986.147879</td>\n",
       "      <td>...</td>\n",
       "      <td>926.141068</td>\n",
       "      <td>9269.657808</td>\n",
       "      <td>2602.394995</td>\n",
       "      <td>4513.480643</td>\n",
       "      <td>1107.482182</td>\n",
       "      <td>882.969944</td>\n",
       "      <td>7092.923025</td>\n",
       "      <td>1056.380121</td>\n",
       "      <td>1271.211593</td>\n",
       "      <td>469.709298</td>\n",
       "    </tr>\n",
       "  </tbody>\n",
       "</table>\n",
       "<p>12 rows × 52 columns</p>\n",
       "</div>"
      ],
      "text/plain": [
       "country             Algeria       Angola        Benin      Botswana  \\\n",
       "gdpPercap_1952  2449.008185  3520.610273  1062.752200    851.241141   \n",
       "gdpPercap_1957  3013.976023  3827.940465   959.601080    918.232535   \n",
       "gdpPercap_1962  2550.816880  4269.276742   949.499064    983.653976   \n",
       "gdpPercap_1967  3246.991771  5522.776375  1035.831411   1214.709294   \n",
       "gdpPercap_1972  4182.663766  5473.288005  1085.796879   2263.611114   \n",
       "gdpPercap_1977  4910.416756  3008.647355  1029.161251   3214.857818   \n",
       "gdpPercap_1982  5745.160213  2756.953672  1277.897616   4551.142150   \n",
       "gdpPercap_1987  5681.358539  2430.208311  1225.856010   6205.883850   \n",
       "gdpPercap_1992  5023.216647  2627.845685  1191.207681   7954.111645   \n",
       "gdpPercap_1997  4797.295051  2277.140884  1232.975292   8647.142313   \n",
       "gdpPercap_2002  5288.040382  2773.287312  1372.877931  11003.605080   \n",
       "gdpPercap_2007  6223.367465  4797.231267  1441.284873  12569.851770   \n",
       "\n",
       "country         Burkina Faso     Burundi     Cameroon  \\\n",
       "gdpPercap_1952    543.255241  339.296459  1172.667655   \n",
       "gdpPercap_1957    617.183465  379.564628  1313.048099   \n",
       "gdpPercap_1962    722.512021  355.203227  1399.607441   \n",
       "gdpPercap_1967    794.826560  412.977514  1508.453148   \n",
       "gdpPercap_1972    854.735976  464.099504  1684.146528   \n",
       "gdpPercap_1977    743.387037  556.103265  1783.432873   \n",
       "gdpPercap_1982    807.198586  559.603231  2367.983282   \n",
       "gdpPercap_1987    912.063142  621.818819  2602.664206   \n",
       "gdpPercap_1992    931.752773  631.699878  1793.163278   \n",
       "gdpPercap_1997    946.294962  463.115148  1694.337469   \n",
       "gdpPercap_2002   1037.645221  446.403513  1934.011449   \n",
       "gdpPercap_2007   1217.032994  430.070692  2042.095240   \n",
       "\n",
       "country         Central African Republic         Chad      Comoros  ...  \\\n",
       "gdpPercap_1952               1071.310713  1178.665927  1102.990936  ...   \n",
       "gdpPercap_1957               1190.844328  1308.495577  1211.148548  ...   \n",
       "gdpPercap_1962               1193.068753  1389.817618  1406.648278  ...   \n",
       "gdpPercap_1967               1136.056615  1196.810565  1876.029643  ...   \n",
       "gdpPercap_1972               1070.013275  1104.103987  1937.577675  ...   \n",
       "gdpPercap_1977               1109.374338  1133.984950  1172.603047  ...   \n",
       "gdpPercap_1982                956.752991   797.908101  1267.100083  ...   \n",
       "gdpPercap_1987                844.876350   952.386129  1315.980812  ...   \n",
       "gdpPercap_1992                747.905525  1058.064300  1246.907370  ...   \n",
       "gdpPercap_1997                740.506332  1004.961353  1173.618235  ...   \n",
       "gdpPercap_2002                738.690607  1156.181860  1075.811558  ...   \n",
       "gdpPercap_2007                706.016537  1704.063724   986.147879  ...   \n",
       "\n",
       "country             Somalia  South Africa        Sudan    Swaziland  \\\n",
       "gdpPercap_1952  1135.749842   4725.295531  1615.991129  1148.376626   \n",
       "gdpPercap_1957  1258.147413   5487.104219  1770.337074  1244.708364   \n",
       "gdpPercap_1962  1369.488336   5768.729717  1959.593767  1856.182125   \n",
       "gdpPercap_1967  1284.733180   7114.477971  1687.997641  2613.101665   \n",
       "gdpPercap_1972  1254.576127   7765.962636  1659.652775  3364.836625   \n",
       "gdpPercap_1977  1450.992513   8028.651439  2202.988423  3781.410618   \n",
       "gdpPercap_1982  1176.807031   8568.266228  1895.544073  3895.384018   \n",
       "gdpPercap_1987  1093.244963   7825.823398  1507.819159  3984.839812   \n",
       "gdpPercap_1992   926.960296   7225.069258  1492.197043  3553.022400   \n",
       "gdpPercap_1997   930.596428   7479.188244  1632.210764  3876.768460   \n",
       "gdpPercap_2002   882.081822   7710.946444  1993.398314  4128.116943   \n",
       "gdpPercap_2007   926.141068   9269.657808  2602.394995  4513.480643   \n",
       "\n",
       "country            Tanzania         Togo      Tunisia       Uganda  \\\n",
       "gdpPercap_1952   716.650072   859.808657  1468.475631   734.753484   \n",
       "gdpPercap_1957   698.535607   925.908320  1395.232468   774.371069   \n",
       "gdpPercap_1962   722.003807  1067.534810  1660.303210   767.271740   \n",
       "gdpPercap_1967   848.218657  1477.596760  1932.360167   908.918522   \n",
       "gdpPercap_1972   915.985059  1649.660188  2753.285994   950.735869   \n",
       "gdpPercap_1977   962.492293  1532.776998  3120.876811   843.733137   \n",
       "gdpPercap_1982   874.242607  1344.577953  3560.233174   682.266227   \n",
       "gdpPercap_1987   831.822079  1202.201361  3810.419296   617.724406   \n",
       "gdpPercap_1992   825.682454  1034.298904  4332.720164   644.170797   \n",
       "gdpPercap_1997   789.186223   982.286924  4876.798614   816.559081   \n",
       "gdpPercap_2002   899.074211   886.220576  5722.895655   927.721002   \n",
       "gdpPercap_2007  1107.482182   882.969944  7092.923025  1056.380121   \n",
       "\n",
       "country              Zambia    Zimbabwe  \n",
       "gdpPercap_1952  1147.388831  406.884115  \n",
       "gdpPercap_1957  1311.956766  518.764268  \n",
       "gdpPercap_1962  1452.725766  527.272182  \n",
       "gdpPercap_1967  1777.077318  569.795071  \n",
       "gdpPercap_1972  1773.498265  799.362176  \n",
       "gdpPercap_1977  1588.688299  685.587682  \n",
       "gdpPercap_1982  1408.678565  788.855041  \n",
       "gdpPercap_1987  1213.315116  706.157306  \n",
       "gdpPercap_1992  1210.884633  693.420786  \n",
       "gdpPercap_1997  1071.353818  792.449960  \n",
       "gdpPercap_2002  1071.613938  672.038623  \n",
       "gdpPercap_2007  1271.211593  469.709298  \n",
       "\n",
       "[12 rows x 52 columns]"
      ]
     },
     "execution_count": 93,
     "metadata": {},
     "output_type": "execute_result"
    }
   ],
   "source": [
    "africa.T #transposes rows and columns"
   ]
  },
  {
   "cell_type": "code",
   "execution_count": 94,
   "id": "ea9e31ef-1121-41d8-a7f2-f2b1ed5f5ab9",
   "metadata": {},
   "outputs": [],
   "source": [
    "africa_file=africa.head(10)#africa file get first 10"
   ]
  },
  {
   "cell_type": "code",
   "execution_count": 95,
   "id": "ad8a269a-e7b8-47a1-930f-fcddc8a886e5",
   "metadata": {},
   "outputs": [
    {
     "data": {
      "text/html": [
       "<div>\n",
       "<style scoped>\n",
       "    .dataframe tbody tr th:only-of-type {\n",
       "        vertical-align: middle;\n",
       "    }\n",
       "\n",
       "    .dataframe tbody tr th {\n",
       "        vertical-align: top;\n",
       "    }\n",
       "\n",
       "    .dataframe thead th {\n",
       "        text-align: right;\n",
       "    }\n",
       "</style>\n",
       "<table border=\"1\" class=\"dataframe\">\n",
       "  <thead>\n",
       "    <tr style=\"text-align: right;\">\n",
       "      <th></th>\n",
       "      <th>gdpPercap_1952</th>\n",
       "      <th>gdpPercap_1957</th>\n",
       "      <th>gdpPercap_1962</th>\n",
       "      <th>gdpPercap_1967</th>\n",
       "      <th>gdpPercap_1972</th>\n",
       "      <th>gdpPercap_1977</th>\n",
       "      <th>gdpPercap_1982</th>\n",
       "      <th>gdpPercap_1987</th>\n",
       "      <th>gdpPercap_1992</th>\n",
       "      <th>gdpPercap_1997</th>\n",
       "      <th>gdpPercap_2002</th>\n",
       "      <th>gdpPercap_2007</th>\n",
       "    </tr>\n",
       "    <tr>\n",
       "      <th>country</th>\n",
       "      <th></th>\n",
       "      <th></th>\n",
       "      <th></th>\n",
       "      <th></th>\n",
       "      <th></th>\n",
       "      <th></th>\n",
       "      <th></th>\n",
       "      <th></th>\n",
       "      <th></th>\n",
       "      <th></th>\n",
       "      <th></th>\n",
       "      <th></th>\n",
       "    </tr>\n",
       "  </thead>\n",
       "  <tbody>\n",
       "    <tr>\n",
       "      <th>Algeria</th>\n",
       "      <td>2449.008185</td>\n",
       "      <td>3013.976023</td>\n",
       "      <td>2550.816880</td>\n",
       "      <td>3246.991771</td>\n",
       "      <td>4182.663766</td>\n",
       "      <td>4910.416756</td>\n",
       "      <td>5745.160213</td>\n",
       "      <td>5681.358539</td>\n",
       "      <td>5023.216647</td>\n",
       "      <td>4797.295051</td>\n",
       "      <td>5288.040382</td>\n",
       "      <td>6223.367465</td>\n",
       "    </tr>\n",
       "    <tr>\n",
       "      <th>Angola</th>\n",
       "      <td>3520.610273</td>\n",
       "      <td>3827.940465</td>\n",
       "      <td>4269.276742</td>\n",
       "      <td>5522.776375</td>\n",
       "      <td>5473.288005</td>\n",
       "      <td>3008.647355</td>\n",
       "      <td>2756.953672</td>\n",
       "      <td>2430.208311</td>\n",
       "      <td>2627.845685</td>\n",
       "      <td>2277.140884</td>\n",
       "      <td>2773.287312</td>\n",
       "      <td>4797.231267</td>\n",
       "    </tr>\n",
       "    <tr>\n",
       "      <th>Benin</th>\n",
       "      <td>1062.752200</td>\n",
       "      <td>959.601080</td>\n",
       "      <td>949.499064</td>\n",
       "      <td>1035.831411</td>\n",
       "      <td>1085.796879</td>\n",
       "      <td>1029.161251</td>\n",
       "      <td>1277.897616</td>\n",
       "      <td>1225.856010</td>\n",
       "      <td>1191.207681</td>\n",
       "      <td>1232.975292</td>\n",
       "      <td>1372.877931</td>\n",
       "      <td>1441.284873</td>\n",
       "    </tr>\n",
       "    <tr>\n",
       "      <th>Botswana</th>\n",
       "      <td>851.241141</td>\n",
       "      <td>918.232535</td>\n",
       "      <td>983.653976</td>\n",
       "      <td>1214.709294</td>\n",
       "      <td>2263.611114</td>\n",
       "      <td>3214.857818</td>\n",
       "      <td>4551.142150</td>\n",
       "      <td>6205.883850</td>\n",
       "      <td>7954.111645</td>\n",
       "      <td>8647.142313</td>\n",
       "      <td>11003.605080</td>\n",
       "      <td>12569.851770</td>\n",
       "    </tr>\n",
       "    <tr>\n",
       "      <th>Burkina Faso</th>\n",
       "      <td>543.255241</td>\n",
       "      <td>617.183465</td>\n",
       "      <td>722.512021</td>\n",
       "      <td>794.826560</td>\n",
       "      <td>854.735976</td>\n",
       "      <td>743.387037</td>\n",
       "      <td>807.198586</td>\n",
       "      <td>912.063142</td>\n",
       "      <td>931.752773</td>\n",
       "      <td>946.294962</td>\n",
       "      <td>1037.645221</td>\n",
       "      <td>1217.032994</td>\n",
       "    </tr>\n",
       "    <tr>\n",
       "      <th>Burundi</th>\n",
       "      <td>339.296459</td>\n",
       "      <td>379.564628</td>\n",
       "      <td>355.203227</td>\n",
       "      <td>412.977514</td>\n",
       "      <td>464.099504</td>\n",
       "      <td>556.103265</td>\n",
       "      <td>559.603231</td>\n",
       "      <td>621.818819</td>\n",
       "      <td>631.699878</td>\n",
       "      <td>463.115148</td>\n",
       "      <td>446.403513</td>\n",
       "      <td>430.070692</td>\n",
       "    </tr>\n",
       "    <tr>\n",
       "      <th>Cameroon</th>\n",
       "      <td>1172.667655</td>\n",
       "      <td>1313.048099</td>\n",
       "      <td>1399.607441</td>\n",
       "      <td>1508.453148</td>\n",
       "      <td>1684.146528</td>\n",
       "      <td>1783.432873</td>\n",
       "      <td>2367.983282</td>\n",
       "      <td>2602.664206</td>\n",
       "      <td>1793.163278</td>\n",
       "      <td>1694.337469</td>\n",
       "      <td>1934.011449</td>\n",
       "      <td>2042.095240</td>\n",
       "    </tr>\n",
       "    <tr>\n",
       "      <th>Central African Republic</th>\n",
       "      <td>1071.310713</td>\n",
       "      <td>1190.844328</td>\n",
       "      <td>1193.068753</td>\n",
       "      <td>1136.056615</td>\n",
       "      <td>1070.013275</td>\n",
       "      <td>1109.374338</td>\n",
       "      <td>956.752991</td>\n",
       "      <td>844.876350</td>\n",
       "      <td>747.905525</td>\n",
       "      <td>740.506332</td>\n",
       "      <td>738.690607</td>\n",
       "      <td>706.016537</td>\n",
       "    </tr>\n",
       "    <tr>\n",
       "      <th>Chad</th>\n",
       "      <td>1178.665927</td>\n",
       "      <td>1308.495577</td>\n",
       "      <td>1389.817618</td>\n",
       "      <td>1196.810565</td>\n",
       "      <td>1104.103987</td>\n",
       "      <td>1133.984950</td>\n",
       "      <td>797.908101</td>\n",
       "      <td>952.386129</td>\n",
       "      <td>1058.064300</td>\n",
       "      <td>1004.961353</td>\n",
       "      <td>1156.181860</td>\n",
       "      <td>1704.063724</td>\n",
       "    </tr>\n",
       "    <tr>\n",
       "      <th>Comoros</th>\n",
       "      <td>1102.990936</td>\n",
       "      <td>1211.148548</td>\n",
       "      <td>1406.648278</td>\n",
       "      <td>1876.029643</td>\n",
       "      <td>1937.577675</td>\n",
       "      <td>1172.603047</td>\n",
       "      <td>1267.100083</td>\n",
       "      <td>1315.980812</td>\n",
       "      <td>1246.907370</td>\n",
       "      <td>1173.618235</td>\n",
       "      <td>1075.811558</td>\n",
       "      <td>986.147879</td>\n",
       "    </tr>\n",
       "  </tbody>\n",
       "</table>\n",
       "</div>"
      ],
      "text/plain": [
       "                          gdpPercap_1952  gdpPercap_1957  gdpPercap_1962  \\\n",
       "country                                                                    \n",
       "Algeria                      2449.008185     3013.976023     2550.816880   \n",
       "Angola                       3520.610273     3827.940465     4269.276742   \n",
       "Benin                        1062.752200      959.601080      949.499064   \n",
       "Botswana                      851.241141      918.232535      983.653976   \n",
       "Burkina Faso                  543.255241      617.183465      722.512021   \n",
       "Burundi                       339.296459      379.564628      355.203227   \n",
       "Cameroon                     1172.667655     1313.048099     1399.607441   \n",
       "Central African Republic     1071.310713     1190.844328     1193.068753   \n",
       "Chad                         1178.665927     1308.495577     1389.817618   \n",
       "Comoros                      1102.990936     1211.148548     1406.648278   \n",
       "\n",
       "                          gdpPercap_1967  gdpPercap_1972  gdpPercap_1977  \\\n",
       "country                                                                    \n",
       "Algeria                      3246.991771     4182.663766     4910.416756   \n",
       "Angola                       5522.776375     5473.288005     3008.647355   \n",
       "Benin                        1035.831411     1085.796879     1029.161251   \n",
       "Botswana                     1214.709294     2263.611114     3214.857818   \n",
       "Burkina Faso                  794.826560      854.735976      743.387037   \n",
       "Burundi                       412.977514      464.099504      556.103265   \n",
       "Cameroon                     1508.453148     1684.146528     1783.432873   \n",
       "Central African Republic     1136.056615     1070.013275     1109.374338   \n",
       "Chad                         1196.810565     1104.103987     1133.984950   \n",
       "Comoros                      1876.029643     1937.577675     1172.603047   \n",
       "\n",
       "                          gdpPercap_1982  gdpPercap_1987  gdpPercap_1992  \\\n",
       "country                                                                    \n",
       "Algeria                      5745.160213     5681.358539     5023.216647   \n",
       "Angola                       2756.953672     2430.208311     2627.845685   \n",
       "Benin                        1277.897616     1225.856010     1191.207681   \n",
       "Botswana                     4551.142150     6205.883850     7954.111645   \n",
       "Burkina Faso                  807.198586      912.063142      931.752773   \n",
       "Burundi                       559.603231      621.818819      631.699878   \n",
       "Cameroon                     2367.983282     2602.664206     1793.163278   \n",
       "Central African Republic      956.752991      844.876350      747.905525   \n",
       "Chad                          797.908101      952.386129     1058.064300   \n",
       "Comoros                      1267.100083     1315.980812     1246.907370   \n",
       "\n",
       "                          gdpPercap_1997  gdpPercap_2002  gdpPercap_2007  \n",
       "country                                                                   \n",
       "Algeria                      4797.295051     5288.040382     6223.367465  \n",
       "Angola                       2277.140884     2773.287312     4797.231267  \n",
       "Benin                        1232.975292     1372.877931     1441.284873  \n",
       "Botswana                     8647.142313    11003.605080    12569.851770  \n",
       "Burkina Faso                  946.294962     1037.645221     1217.032994  \n",
       "Burundi                       463.115148      446.403513      430.070692  \n",
       "Cameroon                     1694.337469     1934.011449     2042.095240  \n",
       "Central African Republic      740.506332      738.690607      706.016537  \n",
       "Chad                         1004.961353     1156.181860     1704.063724  \n",
       "Comoros                      1173.618235     1075.811558      986.147879  "
      ]
     },
     "execution_count": 95,
     "metadata": {},
     "output_type": "execute_result"
    }
   ],
   "source": [
    "africa_file"
   ]
  },
  {
   "cell_type": "code",
   "execution_count": 96,
   "id": "4c2aac13-2a47-49ec-b42c-c7905308d429",
   "metadata": {},
   "outputs": [],
   "source": [
    "africa_file.to_csv('data/africatop10.csv')"
   ]
  },
  {
   "cell_type": "code",
   "execution_count": 97,
   "id": "5335e9af-dfa5-46c0-bef5-872bd8ccd004",
   "metadata": {},
   "outputs": [
    {
     "data": {
      "text/plain": [
       "Index(['gdpPercap_1952', 'gdpPercap_1957', 'gdpPercap_1962', 'gdpPercap_1967',\n",
       "       'gdpPercap_1972', 'gdpPercap_1977', 'gdpPercap_1982', 'gdpPercap_1987',\n",
       "       'gdpPercap_1992', 'gdpPercap_1997', 'gdpPercap_2002', 'gdpPercap_2007'],\n",
       "      dtype='object')"
      ]
     },
     "execution_count": 97,
     "metadata": {},
     "output_type": "execute_result"
    }
   ],
   "source": [
    "africa.columns"
   ]
  },
  {
   "cell_type": "code",
   "execution_count": 99,
   "id": "4748bc6b-2154-4abe-903d-2990e8e90bea",
   "metadata": {},
   "outputs": [],
   "source": [
    "africa_describe = africa.describe()\n",
    "africa_describe.to_csv('data/africadescribe.csv')"
   ]
  },
  {
   "cell_type": "code",
   "execution_count": 100,
   "id": "01e36800-b1bb-430a-872c-cfcde3c9e833",
   "metadata": {},
   "outputs": [],
   "source": [
    "europe=pd.read_csv('data/gapminder_gdp_europe.csv', index_col='country')"
   ]
  },
  {
   "cell_type": "code",
   "execution_count": 101,
   "id": "5ae9710c-e970-4ec6-999a-6555a8f56ab6",
   "metadata": {},
   "outputs": [
    {
     "data": {
      "text/plain": [
       "7029.809327"
      ]
     },
     "execution_count": 101,
     "metadata": {},
     "output_type": "execute_result"
    }
   ],
   "source": [
    "europe.iloc[9,0]"
   ]
  },
  {
   "cell_type": "code",
   "execution_count": 102,
   "id": "b8525bca-da68-4ea0-8942-f222561d3925",
   "metadata": {},
   "outputs": [
    {
     "data": {
      "text/plain": [
       "5937.029526"
      ]
     },
     "execution_count": 102,
     "metadata": {},
     "output_type": "execute_result"
    }
   ],
   "source": [
    "europe.loc['Albania','gdpPercap_2007']"
   ]
  },
  {
   "cell_type": "code",
   "execution_count": 103,
   "id": "87ee99cb-b740-4684-8d52-8e0398003bfd",
   "metadata": {},
   "outputs": [
    {
     "data": {
      "text/plain": [
       "gdpPercap_1952    1601.056136\n",
       "gdpPercap_1957    1942.284244\n",
       "gdpPercap_1962    2312.888958\n",
       "gdpPercap_1967    2760.196931\n",
       "gdpPercap_1972    3313.422188\n",
       "gdpPercap_1977    3533.003910\n",
       "gdpPercap_1982    3630.880722\n",
       "gdpPercap_1987    3738.932735\n",
       "gdpPercap_1992    2497.437901\n",
       "gdpPercap_1997    3193.054604\n",
       "gdpPercap_2002    4604.211737\n",
       "gdpPercap_2007    5937.029526\n",
       "Name: Albania, dtype: float64"
      ]
     },
     "execution_count": 103,
     "metadata": {},
     "output_type": "execute_result"
    }
   ],
   "source": [
    "europe.loc['Albania',:]"
   ]
  },
  {
   "cell_type": "code",
   "execution_count": 104,
   "id": "d39daad7-8a25-4038-8f42-7cc10d2655b7",
   "metadata": {},
   "outputs": [
    {
     "data": {
      "text/plain": [
       "country\n",
       "Albania                    1942.284244\n",
       "Austria                    8842.598030\n",
       "Belgium                    9714.960623\n",
       "Bosnia and Herzegovina     1353.989176\n",
       "Bulgaria                   3008.670727\n",
       "Croatia                    4338.231617\n",
       "Czech Republic             8256.343918\n",
       "Denmark                   11099.659350\n",
       "Finland                    7545.415386\n",
       "France                     8662.834898\n",
       "Germany                   10187.826650\n",
       "Greece                     4916.299889\n",
       "Hungary                    6040.180011\n",
       "Iceland                    9244.001412\n",
       "Ireland                    5599.077872\n",
       "Italy                      6248.656232\n",
       "Montenegro                 3682.259903\n",
       "Netherlands               11276.193440\n",
       "Norway                    11653.973040\n",
       "Poland                     4734.253019\n",
       "Portugal                   3774.571743\n",
       "Romania                    3943.370225\n",
       "Serbia                     4981.090891\n",
       "Slovak Republic            6093.262980\n",
       "Slovenia                   5862.276629\n",
       "Spain                      4564.802410\n",
       "Sweden                     9911.878226\n",
       "Switzerland               17909.489730\n",
       "Turkey                     2218.754257\n",
       "United Kingdom            11283.177950\n",
       "Name: gdpPercap_1957, dtype: float64"
      ]
     },
     "execution_count": 104,
     "metadata": {},
     "output_type": "execute_result"
    }
   ],
   "source": [
    "europe.loc[:,'gdpPercap_1957']"
   ]
  },
  {
   "cell_type": "code",
   "execution_count": 105,
   "id": "19128f4b-00f8-4a92-bcde-5addf50e5f1c",
   "metadata": {},
   "outputs": [
    {
     "data": {
      "text/html": [
       "<div>\n",
       "<style scoped>\n",
       "    .dataframe tbody tr th:only-of-type {\n",
       "        vertical-align: middle;\n",
       "    }\n",
       "\n",
       "    .dataframe tbody tr th {\n",
       "        vertical-align: top;\n",
       "    }\n",
       "\n",
       "    .dataframe thead th {\n",
       "        text-align: right;\n",
       "    }\n",
       "</style>\n",
       "<table border=\"1\" class=\"dataframe\">\n",
       "  <thead>\n",
       "    <tr style=\"text-align: right;\">\n",
       "      <th></th>\n",
       "      <th>gdpPercap_1962</th>\n",
       "      <th>gdpPercap_1967</th>\n",
       "      <th>gdpPercap_1972</th>\n",
       "    </tr>\n",
       "    <tr>\n",
       "      <th>country</th>\n",
       "      <th></th>\n",
       "      <th></th>\n",
       "      <th></th>\n",
       "    </tr>\n",
       "  </thead>\n",
       "  <tbody>\n",
       "    <tr>\n",
       "      <th>Italy</th>\n",
       "      <td>8243.582340</td>\n",
       "      <td>10022.401310</td>\n",
       "      <td>12269.273780</td>\n",
       "    </tr>\n",
       "    <tr>\n",
       "      <th>Montenegro</th>\n",
       "      <td>4649.593785</td>\n",
       "      <td>5907.850937</td>\n",
       "      <td>7778.414017</td>\n",
       "    </tr>\n",
       "    <tr>\n",
       "      <th>Netherlands</th>\n",
       "      <td>12790.849560</td>\n",
       "      <td>15363.251360</td>\n",
       "      <td>18794.745670</td>\n",
       "    </tr>\n",
       "    <tr>\n",
       "      <th>Norway</th>\n",
       "      <td>13450.401510</td>\n",
       "      <td>16361.876470</td>\n",
       "      <td>18965.055510</td>\n",
       "    </tr>\n",
       "    <tr>\n",
       "      <th>Poland</th>\n",
       "      <td>5338.752143</td>\n",
       "      <td>6557.152776</td>\n",
       "      <td>8006.506993</td>\n",
       "    </tr>\n",
       "  </tbody>\n",
       "</table>\n",
       "</div>"
      ],
      "text/plain": [
       "             gdpPercap_1962  gdpPercap_1967  gdpPercap_1972\n",
       "country                                                    \n",
       "Italy           8243.582340    10022.401310    12269.273780\n",
       "Montenegro      4649.593785     5907.850937     7778.414017\n",
       "Netherlands    12790.849560    15363.251360    18794.745670\n",
       "Norway         13450.401510    16361.876470    18965.055510\n",
       "Poland          5338.752143     6557.152776     8006.506993"
      ]
     },
     "execution_count": 105,
     "metadata": {},
     "output_type": "execute_result"
    }
   ],
   "source": [
    "europe.loc['Italy':'Poland','gdpPercap_1962':'gdpPercap_1972']"
   ]
  },
  {
   "cell_type": "code",
   "execution_count": 106,
   "id": "8bf007b4-97a4-4d89-a25e-4d91dc432493",
   "metadata": {},
   "outputs": [],
   "source": [
    "subset = europe.loc['Italy':'Poland','gdpPercap_1962':'gdpPercap_1972']"
   ]
  },
  {
   "cell_type": "code",
   "execution_count": 108,
   "id": "81954143-9818-4c43-bc75-79b16e36e194",
   "metadata": {},
   "outputs": [
    {
     "data": {
      "text/html": [
       "<div>\n",
       "<style scoped>\n",
       "    .dataframe tbody tr th:only-of-type {\n",
       "        vertical-align: middle;\n",
       "    }\n",
       "\n",
       "    .dataframe tbody tr th {\n",
       "        vertical-align: top;\n",
       "    }\n",
       "\n",
       "    .dataframe thead th {\n",
       "        text-align: right;\n",
       "    }\n",
       "</style>\n",
       "<table border=\"1\" class=\"dataframe\">\n",
       "  <thead>\n",
       "    <tr style=\"text-align: right;\">\n",
       "      <th></th>\n",
       "      <th>gdpPercap_1962</th>\n",
       "      <th>gdpPercap_1967</th>\n",
       "      <th>gdpPercap_1972</th>\n",
       "    </tr>\n",
       "    <tr>\n",
       "      <th>country</th>\n",
       "      <th></th>\n",
       "      <th></th>\n",
       "      <th></th>\n",
       "    </tr>\n",
       "  </thead>\n",
       "  <tbody>\n",
       "    <tr>\n",
       "      <th>Italy</th>\n",
       "      <td>False</td>\n",
       "      <td>True</td>\n",
       "      <td>True</td>\n",
       "    </tr>\n",
       "    <tr>\n",
       "      <th>Montenegro</th>\n",
       "      <td>False</td>\n",
       "      <td>False</td>\n",
       "      <td>False</td>\n",
       "    </tr>\n",
       "    <tr>\n",
       "      <th>Netherlands</th>\n",
       "      <td>True</td>\n",
       "      <td>True</td>\n",
       "      <td>True</td>\n",
       "    </tr>\n",
       "    <tr>\n",
       "      <th>Norway</th>\n",
       "      <td>True</td>\n",
       "      <td>True</td>\n",
       "      <td>True</td>\n",
       "    </tr>\n",
       "    <tr>\n",
       "      <th>Poland</th>\n",
       "      <td>False</td>\n",
       "      <td>False</td>\n",
       "      <td>False</td>\n",
       "    </tr>\n",
       "  </tbody>\n",
       "</table>\n",
       "</div>"
      ],
      "text/plain": [
       "             gdpPercap_1962  gdpPercap_1967  gdpPercap_1972\n",
       "country                                                    \n",
       "Italy                 False            True            True\n",
       "Montenegro            False           False           False\n",
       "Netherlands            True            True            True\n",
       "Norway                 True            True            True\n",
       "Poland                False           False           False"
      ]
     },
     "execution_count": 108,
     "metadata": {},
     "output_type": "execute_result"
    }
   ],
   "source": [
    "subset > 10000"
   ]
  },
  {
   "cell_type": "code",
   "execution_count": 109,
   "id": "ed75ea38-4342-41b0-b74b-c948c5b4534a",
   "metadata": {},
   "outputs": [],
   "source": [
    "mask = subset > 10000"
   ]
  },
  {
   "cell_type": "code",
   "execution_count": 110,
   "id": "e6bdae40-2324-4da7-a822-d63a1e285e20",
   "metadata": {},
   "outputs": [
    {
     "data": {
      "text/html": [
       "<div>\n",
       "<style scoped>\n",
       "    .dataframe tbody tr th:only-of-type {\n",
       "        vertical-align: middle;\n",
       "    }\n",
       "\n",
       "    .dataframe tbody tr th {\n",
       "        vertical-align: top;\n",
       "    }\n",
       "\n",
       "    .dataframe thead th {\n",
       "        text-align: right;\n",
       "    }\n",
       "</style>\n",
       "<table border=\"1\" class=\"dataframe\">\n",
       "  <thead>\n",
       "    <tr style=\"text-align: right;\">\n",
       "      <th></th>\n",
       "      <th>gdpPercap_1962</th>\n",
       "      <th>gdpPercap_1967</th>\n",
       "      <th>gdpPercap_1972</th>\n",
       "    </tr>\n",
       "  </thead>\n",
       "  <tbody>\n",
       "    <tr>\n",
       "      <th>count</th>\n",
       "      <td>2.000000</td>\n",
       "      <td>3.000000</td>\n",
       "      <td>3.000000</td>\n",
       "    </tr>\n",
       "    <tr>\n",
       "      <th>mean</th>\n",
       "      <td>13120.625535</td>\n",
       "      <td>13915.843047</td>\n",
       "      <td>16676.358320</td>\n",
       "    </tr>\n",
       "    <tr>\n",
       "      <th>std</th>\n",
       "      <td>466.373656</td>\n",
       "      <td>3408.589070</td>\n",
       "      <td>3817.597015</td>\n",
       "    </tr>\n",
       "    <tr>\n",
       "      <th>min</th>\n",
       "      <td>12790.849560</td>\n",
       "      <td>10022.401310</td>\n",
       "      <td>12269.273780</td>\n",
       "    </tr>\n",
       "    <tr>\n",
       "      <th>25%</th>\n",
       "      <td>12955.737548</td>\n",
       "      <td>12692.826335</td>\n",
       "      <td>15532.009725</td>\n",
       "    </tr>\n",
       "    <tr>\n",
       "      <th>50%</th>\n",
       "      <td>13120.625535</td>\n",
       "      <td>15363.251360</td>\n",
       "      <td>18794.745670</td>\n",
       "    </tr>\n",
       "    <tr>\n",
       "      <th>75%</th>\n",
       "      <td>13285.513522</td>\n",
       "      <td>15862.563915</td>\n",
       "      <td>18879.900590</td>\n",
       "    </tr>\n",
       "    <tr>\n",
       "      <th>max</th>\n",
       "      <td>13450.401510</td>\n",
       "      <td>16361.876470</td>\n",
       "      <td>18965.055510</td>\n",
       "    </tr>\n",
       "  </tbody>\n",
       "</table>\n",
       "</div>"
      ],
      "text/plain": [
       "       gdpPercap_1962  gdpPercap_1967  gdpPercap_1972\n",
       "count        2.000000        3.000000        3.000000\n",
       "mean     13120.625535    13915.843047    16676.358320\n",
       "std        466.373656     3408.589070     3817.597015\n",
       "min      12790.849560    10022.401310    12269.273780\n",
       "25%      12955.737548    12692.826335    15532.009725\n",
       "50%      13120.625535    15363.251360    18794.745670\n",
       "75%      13285.513522    15862.563915    18879.900590\n",
       "max      13450.401510    16361.876470    18965.055510"
      ]
     },
     "execution_count": 110,
     "metadata": {},
     "output_type": "execute_result"
    }
   ],
   "source": [
    "subset[mask].describe()"
   ]
  },
  {
   "cell_type": "code",
   "execution_count": 111,
   "id": "8f188ac6-c9fb-4ecd-96d4-666d838cd11b",
   "metadata": {},
   "outputs": [],
   "source": [
    "mask_higher=europe>europe.mean()"
   ]
  },
  {
   "cell_type": "code",
   "execution_count": 112,
   "id": "8c93abbd-3d0e-441e-819d-7dd87112b798",
   "metadata": {},
   "outputs": [
    {
     "data": {
      "text/html": [
       "<div>\n",
       "<style scoped>\n",
       "    .dataframe tbody tr th:only-of-type {\n",
       "        vertical-align: middle;\n",
       "    }\n",
       "\n",
       "    .dataframe tbody tr th {\n",
       "        vertical-align: top;\n",
       "    }\n",
       "\n",
       "    .dataframe thead th {\n",
       "        text-align: right;\n",
       "    }\n",
       "</style>\n",
       "<table border=\"1\" class=\"dataframe\">\n",
       "  <thead>\n",
       "    <tr style=\"text-align: right;\">\n",
       "      <th></th>\n",
       "      <th>gdpPercap_1952</th>\n",
       "      <th>gdpPercap_1957</th>\n",
       "      <th>gdpPercap_1962</th>\n",
       "      <th>gdpPercap_1967</th>\n",
       "      <th>gdpPercap_1972</th>\n",
       "      <th>gdpPercap_1977</th>\n",
       "      <th>gdpPercap_1982</th>\n",
       "      <th>gdpPercap_1987</th>\n",
       "      <th>gdpPercap_1992</th>\n",
       "      <th>gdpPercap_1997</th>\n",
       "      <th>gdpPercap_2002</th>\n",
       "      <th>gdpPercap_2007</th>\n",
       "    </tr>\n",
       "    <tr>\n",
       "      <th>country</th>\n",
       "      <th></th>\n",
       "      <th></th>\n",
       "      <th></th>\n",
       "      <th></th>\n",
       "      <th></th>\n",
       "      <th></th>\n",
       "      <th></th>\n",
       "      <th></th>\n",
       "      <th></th>\n",
       "      <th></th>\n",
       "      <th></th>\n",
       "      <th></th>\n",
       "    </tr>\n",
       "  </thead>\n",
       "  <tbody>\n",
       "    <tr>\n",
       "      <th>Albania</th>\n",
       "      <td>NaN</td>\n",
       "      <td>NaN</td>\n",
       "      <td>NaN</td>\n",
       "      <td>NaN</td>\n",
       "      <td>NaN</td>\n",
       "      <td>NaN</td>\n",
       "      <td>NaN</td>\n",
       "      <td>NaN</td>\n",
       "      <td>NaN</td>\n",
       "      <td>NaN</td>\n",
       "      <td>NaN</td>\n",
       "      <td>NaN</td>\n",
       "    </tr>\n",
       "    <tr>\n",
       "      <th>Austria</th>\n",
       "      <td>6137.076492</td>\n",
       "      <td>8842.598030</td>\n",
       "      <td>10750.721110</td>\n",
       "      <td>12834.60240</td>\n",
       "      <td>16661.62560</td>\n",
       "      <td>19749.42230</td>\n",
       "      <td>21597.08362</td>\n",
       "      <td>23687.82607</td>\n",
       "      <td>27042.01868</td>\n",
       "      <td>29095.92066</td>\n",
       "      <td>32417.60769</td>\n",
       "      <td>36126.49270</td>\n",
       "    </tr>\n",
       "    <tr>\n",
       "      <th>Belgium</th>\n",
       "      <td>8343.105127</td>\n",
       "      <td>9714.960623</td>\n",
       "      <td>10991.206760</td>\n",
       "      <td>13149.04119</td>\n",
       "      <td>16672.14356</td>\n",
       "      <td>19117.97448</td>\n",
       "      <td>20979.84589</td>\n",
       "      <td>22525.56308</td>\n",
       "      <td>25575.57069</td>\n",
       "      <td>27561.19663</td>\n",
       "      <td>30485.88375</td>\n",
       "      <td>33692.60508</td>\n",
       "    </tr>\n",
       "    <tr>\n",
       "      <th>Bosnia and Herzegovina</th>\n",
       "      <td>NaN</td>\n",
       "      <td>NaN</td>\n",
       "      <td>NaN</td>\n",
       "      <td>NaN</td>\n",
       "      <td>NaN</td>\n",
       "      <td>NaN</td>\n",
       "      <td>NaN</td>\n",
       "      <td>NaN</td>\n",
       "      <td>NaN</td>\n",
       "      <td>NaN</td>\n",
       "      <td>NaN</td>\n",
       "      <td>NaN</td>\n",
       "    </tr>\n",
       "    <tr>\n",
       "      <th>Bulgaria</th>\n",
       "      <td>NaN</td>\n",
       "      <td>NaN</td>\n",
       "      <td>NaN</td>\n",
       "      <td>NaN</td>\n",
       "      <td>NaN</td>\n",
       "      <td>NaN</td>\n",
       "      <td>NaN</td>\n",
       "      <td>NaN</td>\n",
       "      <td>NaN</td>\n",
       "      <td>NaN</td>\n",
       "      <td>NaN</td>\n",
       "      <td>NaN</td>\n",
       "    </tr>\n",
       "    <tr>\n",
       "      <th>Croatia</th>\n",
       "      <td>NaN</td>\n",
       "      <td>NaN</td>\n",
       "      <td>NaN</td>\n",
       "      <td>NaN</td>\n",
       "      <td>NaN</td>\n",
       "      <td>NaN</td>\n",
       "      <td>NaN</td>\n",
       "      <td>NaN</td>\n",
       "      <td>NaN</td>\n",
       "      <td>NaN</td>\n",
       "      <td>NaN</td>\n",
       "      <td>NaN</td>\n",
       "    </tr>\n",
       "    <tr>\n",
       "      <th>Czech Republic</th>\n",
       "      <td>6876.140250</td>\n",
       "      <td>8256.343918</td>\n",
       "      <td>10136.867130</td>\n",
       "      <td>11399.44489</td>\n",
       "      <td>13108.45360</td>\n",
       "      <td>14800.16062</td>\n",
       "      <td>NaN</td>\n",
       "      <td>NaN</td>\n",
       "      <td>NaN</td>\n",
       "      <td>NaN</td>\n",
       "      <td>NaN</td>\n",
       "      <td>NaN</td>\n",
       "    </tr>\n",
       "    <tr>\n",
       "      <th>Denmark</th>\n",
       "      <td>9692.385245</td>\n",
       "      <td>11099.659350</td>\n",
       "      <td>13583.313510</td>\n",
       "      <td>15937.21123</td>\n",
       "      <td>18866.20721</td>\n",
       "      <td>20422.90150</td>\n",
       "      <td>21688.04048</td>\n",
       "      <td>25116.17581</td>\n",
       "      <td>26406.73985</td>\n",
       "      <td>29804.34567</td>\n",
       "      <td>32166.50006</td>\n",
       "      <td>35278.41874</td>\n",
       "    </tr>\n",
       "    <tr>\n",
       "      <th>Finland</th>\n",
       "      <td>6424.519071</td>\n",
       "      <td>7545.415386</td>\n",
       "      <td>9371.842561</td>\n",
       "      <td>10921.63626</td>\n",
       "      <td>14358.87590</td>\n",
       "      <td>15605.42283</td>\n",
       "      <td>18533.15761</td>\n",
       "      <td>21141.01223</td>\n",
       "      <td>20647.16499</td>\n",
       "      <td>23723.95020</td>\n",
       "      <td>28204.59057</td>\n",
       "      <td>33207.08440</td>\n",
       "    </tr>\n",
       "    <tr>\n",
       "      <th>France</th>\n",
       "      <td>7029.809327</td>\n",
       "      <td>8662.834898</td>\n",
       "      <td>10560.485530</td>\n",
       "      <td>12999.91766</td>\n",
       "      <td>16107.19171</td>\n",
       "      <td>18292.63514</td>\n",
       "      <td>20293.89746</td>\n",
       "      <td>22066.44214</td>\n",
       "      <td>24703.79615</td>\n",
       "      <td>25889.78487</td>\n",
       "      <td>28926.03234</td>\n",
       "      <td>30470.01670</td>\n",
       "    </tr>\n",
       "    <tr>\n",
       "      <th>Germany</th>\n",
       "      <td>7144.114393</td>\n",
       "      <td>10187.826650</td>\n",
       "      <td>12902.462910</td>\n",
       "      <td>14745.62561</td>\n",
       "      <td>18016.18027</td>\n",
       "      <td>20512.92123</td>\n",
       "      <td>22031.53274</td>\n",
       "      <td>24639.18566</td>\n",
       "      <td>26505.30317</td>\n",
       "      <td>27788.88416</td>\n",
       "      <td>30035.80198</td>\n",
       "      <td>32170.37442</td>\n",
       "    </tr>\n",
       "    <tr>\n",
       "      <th>Greece</th>\n",
       "      <td>NaN</td>\n",
       "      <td>NaN</td>\n",
       "      <td>NaN</td>\n",
       "      <td>NaN</td>\n",
       "      <td>12724.82957</td>\n",
       "      <td>NaN</td>\n",
       "      <td>NaN</td>\n",
       "      <td>NaN</td>\n",
       "      <td>17541.49634</td>\n",
       "      <td>NaN</td>\n",
       "      <td>22514.25480</td>\n",
       "      <td>27538.41188</td>\n",
       "    </tr>\n",
       "    <tr>\n",
       "      <th>Hungary</th>\n",
       "      <td>NaN</td>\n",
       "      <td>NaN</td>\n",
       "      <td>NaN</td>\n",
       "      <td>NaN</td>\n",
       "      <td>NaN</td>\n",
       "      <td>NaN</td>\n",
       "      <td>NaN</td>\n",
       "      <td>NaN</td>\n",
       "      <td>NaN</td>\n",
       "      <td>NaN</td>\n",
       "      <td>NaN</td>\n",
       "      <td>NaN</td>\n",
       "    </tr>\n",
       "    <tr>\n",
       "      <th>Iceland</th>\n",
       "      <td>7267.688428</td>\n",
       "      <td>9244.001412</td>\n",
       "      <td>10350.159060</td>\n",
       "      <td>13319.89568</td>\n",
       "      <td>15798.06362</td>\n",
       "      <td>19654.96247</td>\n",
       "      <td>23269.60750</td>\n",
       "      <td>26923.20628</td>\n",
       "      <td>25144.39201</td>\n",
       "      <td>28061.09966</td>\n",
       "      <td>31163.20196</td>\n",
       "      <td>36180.78919</td>\n",
       "    </tr>\n",
       "    <tr>\n",
       "      <th>Ireland</th>\n",
       "      <td>NaN</td>\n",
       "      <td>NaN</td>\n",
       "      <td>NaN</td>\n",
       "      <td>NaN</td>\n",
       "      <td>NaN</td>\n",
       "      <td>NaN</td>\n",
       "      <td>NaN</td>\n",
       "      <td>NaN</td>\n",
       "      <td>17558.81555</td>\n",
       "      <td>24521.94713</td>\n",
       "      <td>34077.04939</td>\n",
       "      <td>40675.99635</td>\n",
       "    </tr>\n",
       "    <tr>\n",
       "      <th>Italy</th>\n",
       "      <td>NaN</td>\n",
       "      <td>NaN</td>\n",
       "      <td>NaN</td>\n",
       "      <td>NaN</td>\n",
       "      <td>NaN</td>\n",
       "      <td>NaN</td>\n",
       "      <td>16537.48350</td>\n",
       "      <td>19207.23482</td>\n",
       "      <td>22013.64486</td>\n",
       "      <td>24675.02446</td>\n",
       "      <td>27968.09817</td>\n",
       "      <td>28569.71970</td>\n",
       "    </tr>\n",
       "    <tr>\n",
       "      <th>Montenegro</th>\n",
       "      <td>NaN</td>\n",
       "      <td>NaN</td>\n",
       "      <td>NaN</td>\n",
       "      <td>NaN</td>\n",
       "      <td>NaN</td>\n",
       "      <td>NaN</td>\n",
       "      <td>NaN</td>\n",
       "      <td>NaN</td>\n",
       "      <td>NaN</td>\n",
       "      <td>NaN</td>\n",
       "      <td>NaN</td>\n",
       "      <td>NaN</td>\n",
       "    </tr>\n",
       "    <tr>\n",
       "      <th>Netherlands</th>\n",
       "      <td>8941.571858</td>\n",
       "      <td>11276.193440</td>\n",
       "      <td>12790.849560</td>\n",
       "      <td>15363.25136</td>\n",
       "      <td>18794.74567</td>\n",
       "      <td>21209.05920</td>\n",
       "      <td>21399.46046</td>\n",
       "      <td>23651.32361</td>\n",
       "      <td>26790.94961</td>\n",
       "      <td>30246.13063</td>\n",
       "      <td>33724.75778</td>\n",
       "      <td>36797.93332</td>\n",
       "    </tr>\n",
       "    <tr>\n",
       "      <th>Norway</th>\n",
       "      <td>10095.421720</td>\n",
       "      <td>11653.973040</td>\n",
       "      <td>13450.401510</td>\n",
       "      <td>16361.87647</td>\n",
       "      <td>18965.05551</td>\n",
       "      <td>23311.34939</td>\n",
       "      <td>26298.63531</td>\n",
       "      <td>31540.97480</td>\n",
       "      <td>33965.66115</td>\n",
       "      <td>41283.16433</td>\n",
       "      <td>44683.97525</td>\n",
       "      <td>49357.19017</td>\n",
       "    </tr>\n",
       "    <tr>\n",
       "      <th>Poland</th>\n",
       "      <td>NaN</td>\n",
       "      <td>NaN</td>\n",
       "      <td>NaN</td>\n",
       "      <td>NaN</td>\n",
       "      <td>NaN</td>\n",
       "      <td>NaN</td>\n",
       "      <td>NaN</td>\n",
       "      <td>NaN</td>\n",
       "      <td>NaN</td>\n",
       "      <td>NaN</td>\n",
       "      <td>NaN</td>\n",
       "      <td>NaN</td>\n",
       "    </tr>\n",
       "    <tr>\n",
       "      <th>Portugal</th>\n",
       "      <td>NaN</td>\n",
       "      <td>NaN</td>\n",
       "      <td>NaN</td>\n",
       "      <td>NaN</td>\n",
       "      <td>NaN</td>\n",
       "      <td>NaN</td>\n",
       "      <td>NaN</td>\n",
       "      <td>NaN</td>\n",
       "      <td>NaN</td>\n",
       "      <td>NaN</td>\n",
       "      <td>NaN</td>\n",
       "      <td>NaN</td>\n",
       "    </tr>\n",
       "    <tr>\n",
       "      <th>Romania</th>\n",
       "      <td>NaN</td>\n",
       "      <td>NaN</td>\n",
       "      <td>NaN</td>\n",
       "      <td>NaN</td>\n",
       "      <td>NaN</td>\n",
       "      <td>NaN</td>\n",
       "      <td>NaN</td>\n",
       "      <td>NaN</td>\n",
       "      <td>NaN</td>\n",
       "      <td>NaN</td>\n",
       "      <td>NaN</td>\n",
       "      <td>NaN</td>\n",
       "    </tr>\n",
       "    <tr>\n",
       "      <th>Serbia</th>\n",
       "      <td>NaN</td>\n",
       "      <td>NaN</td>\n",
       "      <td>NaN</td>\n",
       "      <td>NaN</td>\n",
       "      <td>NaN</td>\n",
       "      <td>NaN</td>\n",
       "      <td>NaN</td>\n",
       "      <td>NaN</td>\n",
       "      <td>NaN</td>\n",
       "      <td>NaN</td>\n",
       "      <td>NaN</td>\n",
       "      <td>NaN</td>\n",
       "    </tr>\n",
       "    <tr>\n",
       "      <th>Slovak Republic</th>\n",
       "      <td>NaN</td>\n",
       "      <td>NaN</td>\n",
       "      <td>NaN</td>\n",
       "      <td>NaN</td>\n",
       "      <td>NaN</td>\n",
       "      <td>NaN</td>\n",
       "      <td>NaN</td>\n",
       "      <td>NaN</td>\n",
       "      <td>NaN</td>\n",
       "      <td>NaN</td>\n",
       "      <td>NaN</td>\n",
       "      <td>NaN</td>\n",
       "    </tr>\n",
       "    <tr>\n",
       "      <th>Slovenia</th>\n",
       "      <td>NaN</td>\n",
       "      <td>NaN</td>\n",
       "      <td>NaN</td>\n",
       "      <td>NaN</td>\n",
       "      <td>NaN</td>\n",
       "      <td>15277.03017</td>\n",
       "      <td>17866.72175</td>\n",
       "      <td>18678.53492</td>\n",
       "      <td>NaN</td>\n",
       "      <td>NaN</td>\n",
       "      <td>NaN</td>\n",
       "      <td>25768.25759</td>\n",
       "    </tr>\n",
       "    <tr>\n",
       "      <th>Spain</th>\n",
       "      <td>NaN</td>\n",
       "      <td>NaN</td>\n",
       "      <td>NaN</td>\n",
       "      <td>NaN</td>\n",
       "      <td>NaN</td>\n",
       "      <td>NaN</td>\n",
       "      <td>NaN</td>\n",
       "      <td>NaN</td>\n",
       "      <td>18603.06452</td>\n",
       "      <td>20445.29896</td>\n",
       "      <td>24835.47166</td>\n",
       "      <td>28821.06370</td>\n",
       "    </tr>\n",
       "    <tr>\n",
       "      <th>Sweden</th>\n",
       "      <td>8527.844662</td>\n",
       "      <td>9911.878226</td>\n",
       "      <td>12329.441920</td>\n",
       "      <td>15258.29697</td>\n",
       "      <td>17832.02464</td>\n",
       "      <td>18855.72521</td>\n",
       "      <td>20667.38125</td>\n",
       "      <td>23586.92927</td>\n",
       "      <td>23880.01683</td>\n",
       "      <td>25266.59499</td>\n",
       "      <td>29341.63093</td>\n",
       "      <td>33859.74835</td>\n",
       "    </tr>\n",
       "    <tr>\n",
       "      <th>Switzerland</th>\n",
       "      <td>14734.232750</td>\n",
       "      <td>17909.489730</td>\n",
       "      <td>20431.092700</td>\n",
       "      <td>22966.14432</td>\n",
       "      <td>27195.11304</td>\n",
       "      <td>26982.29052</td>\n",
       "      <td>28397.71512</td>\n",
       "      <td>30281.70459</td>\n",
       "      <td>31871.53030</td>\n",
       "      <td>32135.32301</td>\n",
       "      <td>34480.95771</td>\n",
       "      <td>37506.41907</td>\n",
       "    </tr>\n",
       "    <tr>\n",
       "      <th>Turkey</th>\n",
       "      <td>NaN</td>\n",
       "      <td>NaN</td>\n",
       "      <td>NaN</td>\n",
       "      <td>NaN</td>\n",
       "      <td>NaN</td>\n",
       "      <td>NaN</td>\n",
       "      <td>NaN</td>\n",
       "      <td>NaN</td>\n",
       "      <td>NaN</td>\n",
       "      <td>NaN</td>\n",
       "      <td>NaN</td>\n",
       "      <td>NaN</td>\n",
       "    </tr>\n",
       "    <tr>\n",
       "      <th>United Kingdom</th>\n",
       "      <td>9979.508487</td>\n",
       "      <td>11283.177950</td>\n",
       "      <td>12477.177070</td>\n",
       "      <td>14142.85089</td>\n",
       "      <td>15895.11641</td>\n",
       "      <td>17428.74846</td>\n",
       "      <td>18232.42452</td>\n",
       "      <td>21664.78767</td>\n",
       "      <td>22705.09254</td>\n",
       "      <td>26074.53136</td>\n",
       "      <td>29478.99919</td>\n",
       "      <td>33203.26128</td>\n",
       "    </tr>\n",
       "  </tbody>\n",
       "</table>\n",
       "</div>"
      ],
      "text/plain": [
       "                        gdpPercap_1952  gdpPercap_1957  gdpPercap_1962  \\\n",
       "country                                                                  \n",
       "Albania                            NaN             NaN             NaN   \n",
       "Austria                    6137.076492     8842.598030    10750.721110   \n",
       "Belgium                    8343.105127     9714.960623    10991.206760   \n",
       "Bosnia and Herzegovina             NaN             NaN             NaN   \n",
       "Bulgaria                           NaN             NaN             NaN   \n",
       "Croatia                            NaN             NaN             NaN   \n",
       "Czech Republic             6876.140250     8256.343918    10136.867130   \n",
       "Denmark                    9692.385245    11099.659350    13583.313510   \n",
       "Finland                    6424.519071     7545.415386     9371.842561   \n",
       "France                     7029.809327     8662.834898    10560.485530   \n",
       "Germany                    7144.114393    10187.826650    12902.462910   \n",
       "Greece                             NaN             NaN             NaN   \n",
       "Hungary                            NaN             NaN             NaN   \n",
       "Iceland                    7267.688428     9244.001412    10350.159060   \n",
       "Ireland                            NaN             NaN             NaN   \n",
       "Italy                              NaN             NaN             NaN   \n",
       "Montenegro                         NaN             NaN             NaN   \n",
       "Netherlands                8941.571858    11276.193440    12790.849560   \n",
       "Norway                    10095.421720    11653.973040    13450.401510   \n",
       "Poland                             NaN             NaN             NaN   \n",
       "Portugal                           NaN             NaN             NaN   \n",
       "Romania                            NaN             NaN             NaN   \n",
       "Serbia                             NaN             NaN             NaN   \n",
       "Slovak Republic                    NaN             NaN             NaN   \n",
       "Slovenia                           NaN             NaN             NaN   \n",
       "Spain                              NaN             NaN             NaN   \n",
       "Sweden                     8527.844662     9911.878226    12329.441920   \n",
       "Switzerland               14734.232750    17909.489730    20431.092700   \n",
       "Turkey                             NaN             NaN             NaN   \n",
       "United Kingdom             9979.508487    11283.177950    12477.177070   \n",
       "\n",
       "                        gdpPercap_1967  gdpPercap_1972  gdpPercap_1977  \\\n",
       "country                                                                  \n",
       "Albania                            NaN             NaN             NaN   \n",
       "Austria                    12834.60240     16661.62560     19749.42230   \n",
       "Belgium                    13149.04119     16672.14356     19117.97448   \n",
       "Bosnia and Herzegovina             NaN             NaN             NaN   \n",
       "Bulgaria                           NaN             NaN             NaN   \n",
       "Croatia                            NaN             NaN             NaN   \n",
       "Czech Republic             11399.44489     13108.45360     14800.16062   \n",
       "Denmark                    15937.21123     18866.20721     20422.90150   \n",
       "Finland                    10921.63626     14358.87590     15605.42283   \n",
       "France                     12999.91766     16107.19171     18292.63514   \n",
       "Germany                    14745.62561     18016.18027     20512.92123   \n",
       "Greece                             NaN     12724.82957             NaN   \n",
       "Hungary                            NaN             NaN             NaN   \n",
       "Iceland                    13319.89568     15798.06362     19654.96247   \n",
       "Ireland                            NaN             NaN             NaN   \n",
       "Italy                              NaN             NaN             NaN   \n",
       "Montenegro                         NaN             NaN             NaN   \n",
       "Netherlands                15363.25136     18794.74567     21209.05920   \n",
       "Norway                     16361.87647     18965.05551     23311.34939   \n",
       "Poland                             NaN             NaN             NaN   \n",
       "Portugal                           NaN             NaN             NaN   \n",
       "Romania                            NaN             NaN             NaN   \n",
       "Serbia                             NaN             NaN             NaN   \n",
       "Slovak Republic                    NaN             NaN             NaN   \n",
       "Slovenia                           NaN             NaN     15277.03017   \n",
       "Spain                              NaN             NaN             NaN   \n",
       "Sweden                     15258.29697     17832.02464     18855.72521   \n",
       "Switzerland                22966.14432     27195.11304     26982.29052   \n",
       "Turkey                             NaN             NaN             NaN   \n",
       "United Kingdom             14142.85089     15895.11641     17428.74846   \n",
       "\n",
       "                        gdpPercap_1982  gdpPercap_1987  gdpPercap_1992  \\\n",
       "country                                                                  \n",
       "Albania                            NaN             NaN             NaN   \n",
       "Austria                    21597.08362     23687.82607     27042.01868   \n",
       "Belgium                    20979.84589     22525.56308     25575.57069   \n",
       "Bosnia and Herzegovina             NaN             NaN             NaN   \n",
       "Bulgaria                           NaN             NaN             NaN   \n",
       "Croatia                            NaN             NaN             NaN   \n",
       "Czech Republic                     NaN             NaN             NaN   \n",
       "Denmark                    21688.04048     25116.17581     26406.73985   \n",
       "Finland                    18533.15761     21141.01223     20647.16499   \n",
       "France                     20293.89746     22066.44214     24703.79615   \n",
       "Germany                    22031.53274     24639.18566     26505.30317   \n",
       "Greece                             NaN             NaN     17541.49634   \n",
       "Hungary                            NaN             NaN             NaN   \n",
       "Iceland                    23269.60750     26923.20628     25144.39201   \n",
       "Ireland                            NaN             NaN     17558.81555   \n",
       "Italy                      16537.48350     19207.23482     22013.64486   \n",
       "Montenegro                         NaN             NaN             NaN   \n",
       "Netherlands                21399.46046     23651.32361     26790.94961   \n",
       "Norway                     26298.63531     31540.97480     33965.66115   \n",
       "Poland                             NaN             NaN             NaN   \n",
       "Portugal                           NaN             NaN             NaN   \n",
       "Romania                            NaN             NaN             NaN   \n",
       "Serbia                             NaN             NaN             NaN   \n",
       "Slovak Republic                    NaN             NaN             NaN   \n",
       "Slovenia                   17866.72175     18678.53492             NaN   \n",
       "Spain                              NaN             NaN     18603.06452   \n",
       "Sweden                     20667.38125     23586.92927     23880.01683   \n",
       "Switzerland                28397.71512     30281.70459     31871.53030   \n",
       "Turkey                             NaN             NaN             NaN   \n",
       "United Kingdom             18232.42452     21664.78767     22705.09254   \n",
       "\n",
       "                        gdpPercap_1997  gdpPercap_2002  gdpPercap_2007  \n",
       "country                                                                 \n",
       "Albania                            NaN             NaN             NaN  \n",
       "Austria                    29095.92066     32417.60769     36126.49270  \n",
       "Belgium                    27561.19663     30485.88375     33692.60508  \n",
       "Bosnia and Herzegovina             NaN             NaN             NaN  \n",
       "Bulgaria                           NaN             NaN             NaN  \n",
       "Croatia                            NaN             NaN             NaN  \n",
       "Czech Republic                     NaN             NaN             NaN  \n",
       "Denmark                    29804.34567     32166.50006     35278.41874  \n",
       "Finland                    23723.95020     28204.59057     33207.08440  \n",
       "France                     25889.78487     28926.03234     30470.01670  \n",
       "Germany                    27788.88416     30035.80198     32170.37442  \n",
       "Greece                             NaN     22514.25480     27538.41188  \n",
       "Hungary                            NaN             NaN             NaN  \n",
       "Iceland                    28061.09966     31163.20196     36180.78919  \n",
       "Ireland                    24521.94713     34077.04939     40675.99635  \n",
       "Italy                      24675.02446     27968.09817     28569.71970  \n",
       "Montenegro                         NaN             NaN             NaN  \n",
       "Netherlands                30246.13063     33724.75778     36797.93332  \n",
       "Norway                     41283.16433     44683.97525     49357.19017  \n",
       "Poland                             NaN             NaN             NaN  \n",
       "Portugal                           NaN             NaN             NaN  \n",
       "Romania                            NaN             NaN             NaN  \n",
       "Serbia                             NaN             NaN             NaN  \n",
       "Slovak Republic                    NaN             NaN             NaN  \n",
       "Slovenia                           NaN             NaN     25768.25759  \n",
       "Spain                      20445.29896     24835.47166     28821.06370  \n",
       "Sweden                     25266.59499     29341.63093     33859.74835  \n",
       "Switzerland                32135.32301     34480.95771     37506.41907  \n",
       "Turkey                             NaN             NaN             NaN  \n",
       "United Kingdom             26074.53136     29478.99919     33203.26128  "
      ]
     },
     "execution_count": 112,
     "metadata": {},
     "output_type": "execute_result"
    }
   ],
   "source": [
    "europe[mask_higher]"
   ]
  },
  {
   "cell_type": "code",
   "execution_count": 114,
   "id": "10bcd760-9113-466f-a892-86fd4bcfff66",
   "metadata": {},
   "outputs": [],
   "source": [
    "wealth_score = mask_higher.aggregate('sum', axis=1)/len(europe.columns)"
   ]
  },
  {
   "cell_type": "markdown",
   "id": "e8b13fb3-25af-47d4-aaa7-762592652712",
   "metadata": {},
   "source": [
    "above calculates values where they are not NAN and add them up for each column and the axis =1  tells it to do sum operaiton on columns and divide by number of countries. i.e. how many times a country is above the mean"
   ]
  },
  {
   "cell_type": "code",
   "execution_count": 115,
   "id": "ff585bb9-8cb8-4aea-a51e-47f8c69f34ee",
   "metadata": {},
   "outputs": [
    {
     "data": {
      "text/plain": [
       "country\n",
       "Albania                   0.000000\n",
       "Austria                   1.000000\n",
       "Belgium                   1.000000\n",
       "Bosnia and Herzegovina    0.000000\n",
       "Bulgaria                  0.000000\n",
       "Croatia                   0.000000\n",
       "Czech Republic            0.500000\n",
       "Denmark                   1.000000\n",
       "Finland                   1.000000\n",
       "France                    1.000000\n",
       "Germany                   1.000000\n",
       "Greece                    0.333333\n",
       "Hungary                   0.000000\n",
       "Iceland                   1.000000\n",
       "Ireland                   0.333333\n",
       "Italy                     0.500000\n",
       "Montenegro                0.000000\n",
       "Netherlands               1.000000\n",
       "Norway                    1.000000\n",
       "Poland                    0.000000\n",
       "Portugal                  0.000000\n",
       "Romania                   0.000000\n",
       "Serbia                    0.000000\n",
       "Slovak Republic           0.000000\n",
       "Slovenia                  0.333333\n",
       "Spain                     0.333333\n",
       "Sweden                    1.000000\n",
       "Switzerland               1.000000\n",
       "Turkey                    0.000000\n",
       "United Kingdom            1.000000\n",
       "dtype: float64"
      ]
     },
     "execution_count": 115,
     "metadata": {},
     "output_type": "execute_result"
    }
   ],
   "source": [
    "wealth_score"
   ]
  },
  {
   "cell_type": "code",
   "execution_count": 116,
   "id": "37e763c2-a13e-4ec5-b8e5-cd6b8173694c",
   "metadata": {},
   "outputs": [],
   "source": [
    "import matplotlib.pyplot as plt"
   ]
  },
  {
   "cell_type": "code",
   "execution_count": 117,
   "id": "911a3347-4be2-4058-9d7d-f91722510319",
   "metadata": {},
   "outputs": [
    {
     "data": {
      "text/html": [
       "<div>\n",
       "<style scoped>\n",
       "    .dataframe tbody tr th:only-of-type {\n",
       "        vertical-align: middle;\n",
       "    }\n",
       "\n",
       "    .dataframe tbody tr th {\n",
       "        vertical-align: top;\n",
       "    }\n",
       "\n",
       "    .dataframe thead th {\n",
       "        text-align: right;\n",
       "    }\n",
       "</style>\n",
       "<table border=\"1\" class=\"dataframe\">\n",
       "  <thead>\n",
       "    <tr style=\"text-align: right;\">\n",
       "      <th></th>\n",
       "      <th>gdpPercap_1952</th>\n",
       "      <th>gdpPercap_1957</th>\n",
       "      <th>gdpPercap_1962</th>\n",
       "      <th>gdpPercap_1967</th>\n",
       "      <th>gdpPercap_1972</th>\n",
       "      <th>gdpPercap_1977</th>\n",
       "      <th>gdpPercap_1982</th>\n",
       "      <th>gdpPercap_1987</th>\n",
       "      <th>gdpPercap_1992</th>\n",
       "      <th>gdpPercap_1997</th>\n",
       "      <th>gdpPercap_2002</th>\n",
       "      <th>gdpPercap_2007</th>\n",
       "    </tr>\n",
       "    <tr>\n",
       "      <th>country</th>\n",
       "      <th></th>\n",
       "      <th></th>\n",
       "      <th></th>\n",
       "      <th></th>\n",
       "      <th></th>\n",
       "      <th></th>\n",
       "      <th></th>\n",
       "      <th></th>\n",
       "      <th></th>\n",
       "      <th></th>\n",
       "      <th></th>\n",
       "      <th></th>\n",
       "    </tr>\n",
       "  </thead>\n",
       "  <tbody>\n",
       "    <tr>\n",
       "      <th>Australia</th>\n",
       "      <td>10039.59564</td>\n",
       "      <td>10949.64959</td>\n",
       "      <td>12217.22686</td>\n",
       "      <td>14526.12465</td>\n",
       "      <td>16788.62948</td>\n",
       "      <td>18334.19751</td>\n",
       "      <td>19477.00928</td>\n",
       "      <td>21888.88903</td>\n",
       "      <td>23424.76683</td>\n",
       "      <td>26997.93657</td>\n",
       "      <td>30687.75473</td>\n",
       "      <td>34435.36744</td>\n",
       "    </tr>\n",
       "    <tr>\n",
       "      <th>New Zealand</th>\n",
       "      <td>10556.57566</td>\n",
       "      <td>12247.39532</td>\n",
       "      <td>13175.67800</td>\n",
       "      <td>14463.91893</td>\n",
       "      <td>16046.03728</td>\n",
       "      <td>16233.71770</td>\n",
       "      <td>17632.41040</td>\n",
       "      <td>19007.19129</td>\n",
       "      <td>18363.32494</td>\n",
       "      <td>21050.41377</td>\n",
       "      <td>23189.80135</td>\n",
       "      <td>25185.00911</td>\n",
       "    </tr>\n",
       "  </tbody>\n",
       "</table>\n",
       "</div>"
      ],
      "text/plain": [
       "             gdpPercap_1952  gdpPercap_1957  gdpPercap_1962  gdpPercap_1967  \\\n",
       "country                                                                       \n",
       "Australia       10039.59564     10949.64959     12217.22686     14526.12465   \n",
       "New Zealand     10556.57566     12247.39532     13175.67800     14463.91893   \n",
       "\n",
       "             gdpPercap_1972  gdpPercap_1977  gdpPercap_1982  gdpPercap_1987  \\\n",
       "country                                                                       \n",
       "Australia       16788.62948     18334.19751     19477.00928     21888.88903   \n",
       "New Zealand     16046.03728     16233.71770     17632.41040     19007.19129   \n",
       "\n",
       "             gdpPercap_1992  gdpPercap_1997  gdpPercap_2002  gdpPercap_2007  \n",
       "country                                                                      \n",
       "Australia       23424.76683     26997.93657     30687.75473     34435.36744  \n",
       "New Zealand     18363.32494     21050.41377     23189.80135     25185.00911  "
      ]
     },
     "execution_count": 117,
     "metadata": {},
     "output_type": "execute_result"
    }
   ],
   "source": [
    "oceania"
   ]
  },
  {
   "cell_type": "code",
   "execution_count": 127,
   "id": "c1163b2d-043f-4171-9f49-ea983995f07b",
   "metadata": {},
   "outputs": [
    {
     "data": {
      "text/plain": [
       "Text(0, 0.5, 'GDP')"
      ]
     },
     "execution_count": 127,
     "metadata": {},
     "output_type": "execute_result"
    },
    {
     "data": {
      "image/png": "[encoded data removed]",
      "text/plain": [
       "<Figure size 432x288 with 1 Axes>"
      ]
     },
     "metadata": {
      "needs_background": "light"
     },
     "output_type": "display_data"
    }
   ],
   "source": [
    "years = oceania.columns\n",
    "gdp_australia=oceania.loc['Australia']\n",
    "plt.xticks(rotation=90)\n",
    "gdp_nz=oceania.loc['New Zealand']\n",
    "\n",
    "plt.plot(years, gdp_australia, 'g--', label='australia')\n",
    "plt.plot(years, gdp_nz, 'b-', label='New Zealand')\n",
    "\n",
    "plt.legend(loc='upper left')\n",
    "plt.xlabel('Year')\n",
    "plt.ylabel('GDP')"
   ]
  },
  {
   "cell_type": "code",
   "execution_count": 130,
   "id": "a4d87235-faea-4138-a4ce-33ba335e88f8",
   "metadata": {},
   "outputs": [
    {
     "data": {
      "text/plain": [
       "([0, 1, 2, 3, 4, 5, 6, 7, 8, 9, 10, 11],\n",
       " [Text(0, 0, ''),\n",
       "  Text(0, 0, ''),\n",
       "  Text(0, 0, ''),\n",
       "  Text(0, 0, ''),\n",
       "  Text(0, 0, ''),\n",
       "  Text(0, 0, ''),\n",
       "  Text(0, 0, ''),\n",
       "  Text(0, 0, ''),\n",
       "  Text(0, 0, ''),\n",
       "  Text(0, 0, ''),\n",
       "  Text(0, 0, ''),\n",
       "  Text(0, 0, '')])"
      ]
     },
     "execution_count": 130,
     "metadata": {},
     "output_type": "execute_result"
    },
    {
     "data": {
      "image/png": "[encoded data removed]",
      "text/plain": [
       "<Figure size 432x288 with 1 Axes>"
      ]
     },
     "metadata": {
      "needs_background": "light"
     },
     "output_type": "display_data"
    }
   ],
   "source": [
    "europe = pd.read_csv('data/gapminder_gdp_europe.csv', index_col='country')\n",
    "\n",
    "plt.plot(europe.min(), label='GDPmin')\n",
    "plt.legend('upper left')\n",
    "plt.xticks(rotation= 90)"
   ]
  },
  {
   "cell_type": "code",
   "execution_count": null,
   "id": "da9dcb8e-662a-4885-9997-847539d7ca4f",
   "metadata": {},
   "outputs": [],
   "source": []
  }
 ],
 "metadata": {
  "kernelspec": {
   "display_name": "Python 3 (ipykernel)",
   "language": "python",
   "name": "python3"
  },
  "language_info": {
   "codemirror_mode": {
    "name": "ipython",
    "version": 3
   },
   "file_extension": ".py",
   "mimetype": "text/x-python",
   "name": "python",
   "nbconvert_exporter": "python",
   "pygments_lexer": "ipython3",
   "version": "3.9.15"
  }
 },
 "nbformat": 4,
 "nbformat_minor": 5
}
